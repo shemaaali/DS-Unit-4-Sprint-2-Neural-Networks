{
  "nbformat": 4,
  "nbformat_minor": 0,
  "metadata": {
    "colab": {
      "name": "SA6_LS_DS_432_Train_Assignment.ipynb",
      "provenance": [],
      "collapsed_sections": [],
      "include_colab_link": true
    },
    "kernelspec": {
      "display_name": "Python 3",
      "language": "python",
      "name": "python3"
    },
    "language_info": {
      "codemirror_mode": {
        "name": "ipython",
        "version": 3
      },
      "file_extension": ".py",
      "mimetype": "text/x-python",
      "name": "python",
      "nbconvert_exporter": "python",
      "pygments_lexer": "ipython3",
      "version": "3.7.3"
    },
    "nteract": {
      "version": "0.22.4"
    }
  },
  "cells": [
    {
      "cell_type": "markdown",
      "metadata": {
        "id": "view-in-github",
        "colab_type": "text"
      },
      "source": [
        "<a href=\"https://colab.research.google.com/github/shemaaali/DS-Unit-4-Sprint-2-Neural-Networks/blob/main/module2-Train/SA6_LS_DS_432_Train_Assignment.ipynb\" target=\"_parent\"><img src=\"https://colab.research.google.com/assets/colab-badge.svg\" alt=\"Open In Colab\"/></a>"
      ]
    },
    {
      "cell_type": "markdown",
      "metadata": {
        "id": "NGGrt9EYlCqY"
      },
      "source": [
        "<img align=\"left\" src=\"https://lever-client-logos.s3.amazonaws.com/864372b1-534c-480e-acd5-9711f850815c-1524247202159.png\" width=200>\n",
        "<br></br>\n",
        "<br></br>\n",
        "\n",
        "# Train Practice\n",
        "\n",
        "## *Data Science Unit 4 Sprint 2 Assignment 2*\n",
        "\n",
        "Continue to use TensorFlow Keras & a sample of the [Quickdraw dataset](https://github.com/googlecreativelab/quickdraw-dataset) to build a sketch classification model. The dataset has been sampled to only 10 classes and 10000 observations per class. Please build a baseline classification model then run a few experiments with different optimizers and learning rates. \n",
        "\n",
        "*Don't forgot to switch to GPU on Colab!*"
      ]
    },
    {
      "cell_type": "code",
      "metadata": {
        "id": "mKjGBnvCKexj",
        "outputId": "2b12cfb2-f584-45c4-be59-84cf4433b0ed",
        "colab": {
          "base_uri": "https://localhost:8080/"
        }
      },
      "source": [
        "# For the current version: \n",
        "!pip install --upgrade tensorflow"
      ],
      "execution_count": 2,
      "outputs": [
        {
          "output_type": "stream",
          "text": [
            "Collecting tensorflow\n",
            "\u001b[?25l  Downloading https://files.pythonhosted.org/packages/ad/ad/769c195c72ac72040635c66cd9ba7b0f4b4fc1ac67e59b99fa6988446c22/tensorflow-2.3.1-cp36-cp36m-manylinux2010_x86_64.whl (320.4MB)\n",
            "\u001b[K     |████████████████████████████████| 320.4MB 50kB/s \n",
            "\u001b[?25hRequirement already satisfied, skipping upgrade: gast==0.3.3 in /usr/local/lib/python3.6/dist-packages (from tensorflow) (0.3.3)\n",
            "Requirement already satisfied, skipping upgrade: keras-preprocessing<1.2,>=1.1.1 in /usr/local/lib/python3.6/dist-packages (from tensorflow) (1.1.2)\n",
            "Requirement already satisfied, skipping upgrade: h5py<2.11.0,>=2.10.0 in /usr/local/lib/python3.6/dist-packages (from tensorflow) (2.10.0)\n",
            "Requirement already satisfied, skipping upgrade: opt-einsum>=2.3.2 in /usr/local/lib/python3.6/dist-packages (from tensorflow) (3.3.0)\n",
            "Requirement already satisfied, skipping upgrade: astunparse==1.6.3 in /usr/local/lib/python3.6/dist-packages (from tensorflow) (1.6.3)\n",
            "Requirement already satisfied, skipping upgrade: numpy<1.19.0,>=1.16.0 in /usr/local/lib/python3.6/dist-packages (from tensorflow) (1.18.5)\n",
            "Requirement already satisfied, skipping upgrade: tensorboard<3,>=2.3.0 in /usr/local/lib/python3.6/dist-packages (from tensorflow) (2.3.0)\n",
            "Requirement already satisfied, skipping upgrade: wheel>=0.26 in /usr/local/lib/python3.6/dist-packages (from tensorflow) (0.35.1)\n",
            "Requirement already satisfied, skipping upgrade: grpcio>=1.8.6 in /usr/local/lib/python3.6/dist-packages (from tensorflow) (1.32.0)\n",
            "Requirement already satisfied, skipping upgrade: wrapt>=1.11.1 in /usr/local/lib/python3.6/dist-packages (from tensorflow) (1.12.1)\n",
            "Requirement already satisfied, skipping upgrade: absl-py>=0.7.0 in /usr/local/lib/python3.6/dist-packages (from tensorflow) (0.10.0)\n",
            "Requirement already satisfied, skipping upgrade: six>=1.12.0 in /usr/local/lib/python3.6/dist-packages (from tensorflow) (1.15.0)\n",
            "Requirement already satisfied, skipping upgrade: protobuf>=3.9.2 in /usr/local/lib/python3.6/dist-packages (from tensorflow) (3.12.4)\n",
            "Requirement already satisfied, skipping upgrade: tensorflow-estimator<2.4.0,>=2.3.0 in /usr/local/lib/python3.6/dist-packages (from tensorflow) (2.3.0)\n",
            "Requirement already satisfied, skipping upgrade: google-pasta>=0.1.8 in /usr/local/lib/python3.6/dist-packages (from tensorflow) (0.2.0)\n",
            "Requirement already satisfied, skipping upgrade: termcolor>=1.1.0 in /usr/local/lib/python3.6/dist-packages (from tensorflow) (1.1.0)\n",
            "Requirement already satisfied, skipping upgrade: google-auth<2,>=1.6.3 in /usr/local/lib/python3.6/dist-packages (from tensorboard<3,>=2.3.0->tensorflow) (1.17.2)\n",
            "Requirement already satisfied, skipping upgrade: markdown>=2.6.8 in /usr/local/lib/python3.6/dist-packages (from tensorboard<3,>=2.3.0->tensorflow) (3.2.2)\n",
            "Requirement already satisfied, skipping upgrade: tensorboard-plugin-wit>=1.6.0 in /usr/local/lib/python3.6/dist-packages (from tensorboard<3,>=2.3.0->tensorflow) (1.7.0)\n",
            "Requirement already satisfied, skipping upgrade: werkzeug>=0.11.15 in /usr/local/lib/python3.6/dist-packages (from tensorboard<3,>=2.3.0->tensorflow) (1.0.1)\n",
            "Requirement already satisfied, skipping upgrade: setuptools>=41.0.0 in /usr/local/lib/python3.6/dist-packages (from tensorboard<3,>=2.3.0->tensorflow) (50.3.0)\n",
            "Requirement already satisfied, skipping upgrade: google-auth-oauthlib<0.5,>=0.4.1 in /usr/local/lib/python3.6/dist-packages (from tensorboard<3,>=2.3.0->tensorflow) (0.4.1)\n",
            "Requirement already satisfied, skipping upgrade: requests<3,>=2.21.0 in /usr/local/lib/python3.6/dist-packages (from tensorboard<3,>=2.3.0->tensorflow) (2.23.0)\n",
            "Requirement already satisfied, skipping upgrade: cachetools<5.0,>=2.0.0 in /usr/local/lib/python3.6/dist-packages (from google-auth<2,>=1.6.3->tensorboard<3,>=2.3.0->tensorflow) (4.1.1)\n",
            "Requirement already satisfied, skipping upgrade: pyasn1-modules>=0.2.1 in /usr/local/lib/python3.6/dist-packages (from google-auth<2,>=1.6.3->tensorboard<3,>=2.3.0->tensorflow) (0.2.8)\n",
            "Requirement already satisfied, skipping upgrade: rsa<5,>=3.1.4; python_version >= \"3\" in /usr/local/lib/python3.6/dist-packages (from google-auth<2,>=1.6.3->tensorboard<3,>=2.3.0->tensorflow) (4.6)\n",
            "Requirement already satisfied, skipping upgrade: importlib-metadata; python_version < \"3.8\" in /usr/local/lib/python3.6/dist-packages (from markdown>=2.6.8->tensorboard<3,>=2.3.0->tensorflow) (2.0.0)\n",
            "Requirement already satisfied, skipping upgrade: requests-oauthlib>=0.7.0 in /usr/local/lib/python3.6/dist-packages (from google-auth-oauthlib<0.5,>=0.4.1->tensorboard<3,>=2.3.0->tensorflow) (1.3.0)\n",
            "Requirement already satisfied, skipping upgrade: idna<3,>=2.5 in /usr/local/lib/python3.6/dist-packages (from requests<3,>=2.21.0->tensorboard<3,>=2.3.0->tensorflow) (2.10)\n",
            "Requirement already satisfied, skipping upgrade: urllib3!=1.25.0,!=1.25.1,<1.26,>=1.21.1 in /usr/local/lib/python3.6/dist-packages (from requests<3,>=2.21.0->tensorboard<3,>=2.3.0->tensorflow) (1.24.3)\n",
            "Requirement already satisfied, skipping upgrade: chardet<4,>=3.0.2 in /usr/local/lib/python3.6/dist-packages (from requests<3,>=2.21.0->tensorboard<3,>=2.3.0->tensorflow) (3.0.4)\n",
            "Requirement already satisfied, skipping upgrade: certifi>=2017.4.17 in /usr/local/lib/python3.6/dist-packages (from requests<3,>=2.21.0->tensorboard<3,>=2.3.0->tensorflow) (2020.6.20)\n",
            "Requirement already satisfied, skipping upgrade: pyasn1<0.5.0,>=0.4.6 in /usr/local/lib/python3.6/dist-packages (from pyasn1-modules>=0.2.1->google-auth<2,>=1.6.3->tensorboard<3,>=2.3.0->tensorflow) (0.4.8)\n",
            "Requirement already satisfied, skipping upgrade: zipp>=0.5 in /usr/local/lib/python3.6/dist-packages (from importlib-metadata; python_version < \"3.8\"->markdown>=2.6.8->tensorboard<3,>=2.3.0->tensorflow) (3.2.0)\n",
            "Requirement already satisfied, skipping upgrade: oauthlib>=3.0.0 in /usr/local/lib/python3.6/dist-packages (from requests-oauthlib>=0.7.0->google-auth-oauthlib<0.5,>=0.4.1->tensorboard<3,>=2.3.0->tensorflow) (3.1.0)\n",
            "Installing collected packages: tensorflow\n",
            "  Found existing installation: tensorflow 2.3.0\n",
            "    Uninstalling tensorflow-2.3.0:\n",
            "      Successfully uninstalled tensorflow-2.3.0\n",
            "Successfully installed tensorflow-2.3.1\n"
          ],
          "name": "stdout"
        }
      ]
    },
    {
      "cell_type": "code",
      "metadata": {
        "id": "kehl05cTKkw0",
        "outputId": "4d81696d-95a5-4f0e-b06d-41fd3de8c823",
        "colab": {
          "base_uri": "https://localhost:8080/"
        }
      },
      "source": [
        "!wget https://github.com/LambdaSchool/DS-Unit-4-Sprint-2-Neural-Networks/raw/main/quickdraw10.npz"
      ],
      "execution_count": 3,
      "outputs": [
        {
          "output_type": "stream",
          "text": [
            "--2020-10-06 23:07:14--  https://github.com/LambdaSchool/DS-Unit-4-Sprint-2-Neural-Networks/raw/main/quickdraw10.npz\n",
            "Resolving github.com (github.com)... 192.30.255.112\n",
            "Connecting to github.com (github.com)|192.30.255.112|:443... connected.\n",
            "HTTP request sent, awaiting response... 302 Found\n",
            "Location: https://raw.githubusercontent.com/LambdaSchool/DS-Unit-4-Sprint-2-Neural-Networks/main/quickdraw10.npz [following]\n",
            "--2020-10-06 23:07:14--  https://raw.githubusercontent.com/LambdaSchool/DS-Unit-4-Sprint-2-Neural-Networks/main/quickdraw10.npz\n",
            "Resolving raw.githubusercontent.com (raw.githubusercontent.com)... 151.101.0.133, 151.101.64.133, 151.101.128.133, ...\n",
            "Connecting to raw.githubusercontent.com (raw.githubusercontent.com)|151.101.0.133|:443... connected.\n",
            "HTTP request sent, awaiting response... 200 OK\n",
            "Length: 25421363 (24M) [application/octet-stream]\n",
            "Saving to: ‘quickdraw10.npz’\n",
            "\n",
            "quickdraw10.npz     100%[===================>]  24.24M  49.9MB/s    in 0.5s    \n",
            "\n",
            "2020-10-06 23:07:15 (49.9 MB/s) - ‘quickdraw10.npz’ saved [25421363/25421363]\n",
            "\n"
          ],
          "name": "stdout"
        }
      ]
    },
    {
      "cell_type": "markdown",
      "metadata": {
        "id": "ptJ2b3wk62Ud"
      },
      "source": [
        "### Write a function to load your data\n",
        "\n",
        "Wrap yesterday's preprocessing steps into a function that returns four items:\n",
        "* X_train\n",
        "* y_train\n",
        "* X_test\n",
        "* y_test\n",
        "\n",
        "Your function should accept a `path` to the data as a argument."
      ]
    },
    {
      "cell_type": "code",
      "metadata": {
        "id": "nJsIsrvp7O3e"
      },
      "source": [
        "def load_quickdraw10(path):\n",
        "\n",
        "  return X_train, y_train, X_test, y_test"
      ],
      "execution_count": 5,
      "outputs": []
    },
    {
      "cell_type": "markdown",
      "metadata": {
        "id": "l-6PxI6H5__2"
      },
      "source": [
        "### Write a Model Function\n",
        "Using your model from yesterday, write a function called `create_model` which returns a compiled TensorFlow Keras Sequential Model suitable for classifying the QuickDraw-10 dataset. Include parameters for the following: \n",
        "* Learning Rate\n",
        "* Optimizer"
      ]
    },
    {
      "cell_type": "code",
      "metadata": {
        "id": "C1Ve5WUZXy7K"
      },
      "source": [
        "from tensorflow.keras import Sequential\n",
        "from tensorflow.keras.layers import Dense\n",
        "from tensorflow.keras.optimizers import SGD\n",
        "\n",
        "def create_model(lr=0.01):\n",
        "  opt = SGD(learning_rate=lr)\n",
        "\n",
        "  model = Sequential(\n",
        "      [Dense(32, activation='relu', input_dim=784),\n",
        "       Dense(32, activation='relu'),\n",
        "       Dense(10, activation='softmax')]\n",
        "  )\n",
        "\n",
        "  model.compile(optimizer=opt, loss='sparse_categorical_crossentropy',\n",
        "                metrics=['accuracy'])\n",
        "  return model"
      ],
      "execution_count": 40,
      "outputs": []
    },
    {
      "cell_type": "code",
      "metadata": {
        "id": "wPKynHR8YA5O"
      },
      "source": [
        "model = create_model()"
      ],
      "execution_count": 42,
      "outputs": []
    },
    {
      "cell_type": "code",
      "metadata": {
        "id": "8tZO-4x2X6NS",
        "outputId": "837e0420-deab-4124-c9cd-b0393946156e",
        "colab": {
          "base_uri": "https://localhost:8080/"
        }
      },
      "source": [
        "model.summary()"
      ],
      "execution_count": 43,
      "outputs": [
        {
          "output_type": "stream",
          "text": [
            "Model: \"sequential_1\"\n",
            "_________________________________________________________________\n",
            "Layer (type)                 Output Shape              Param #   \n",
            "=================================================================\n",
            "dense_3 (Dense)              (None, 32)                25120     \n",
            "_________________________________________________________________\n",
            "dense_4 (Dense)              (None, 32)                1056      \n",
            "_________________________________________________________________\n",
            "dense_5 (Dense)              (None, 10)                330       \n",
            "=================================================================\n",
            "Total params: 26,506\n",
            "Trainable params: 26,506\n",
            "Non-trainable params: 0\n",
            "_________________________________________________________________\n"
          ],
          "name": "stdout"
        }
      ]
    },
    {
      "cell_type": "markdown",
      "metadata": {
        "id": "q2wVK6kFZEOc"
      },
      "source": [
        "## Experiment with Batch Size\n",
        "  Run 5 experiments with various batch sizes of your choice.\n",
        "\n",
        "  Visualize the results\n",
        "\n",
        "  Write up an analysis of the experiments and select the \"best\" \n",
        "  \n",
        "  performing model among your experiments. \n",
        "\n",
        "  Make sure to compare against your model's performance yesterday."
      ]
    },
    {
      "cell_type": "code",
      "metadata": {
        "id": "datjlEyWYPOV",
        "outputId": "086e0981-a611-46ba-9a7e-418f46e2dd78",
        "colab": {
          "base_uri": "https://localhost:8080/"
        }
      },
      "source": [
        "# fit the model \n",
        "# batch size 35\n",
        "model = create_model()\n",
        "bt_default = model.fit(X_train, y_train,\n",
        "                       epochs=15,\n",
        "                       batch_size=35,\n",
        "                       validation_data=(X_test, y_test))"
      ],
      "execution_count": 44,
      "outputs": [
        {
          "output_type": "stream",
          "text": [
            "Epoch 1/15\n",
            "1715/1715 [==============================] - 3s 2ms/step - loss: 0.7614 - accuracy: 0.7913 - val_loss: 0.3617 - val_accuracy: 0.8977\n",
            "Epoch 2/15\n",
            "1715/1715 [==============================] - 3s 2ms/step - loss: 0.3394 - accuracy: 0.9021 - val_loss: 0.3011 - val_accuracy: 0.9128\n",
            "Epoch 3/15\n",
            "1715/1715 [==============================] - 3s 2ms/step - loss: 0.2940 - accuracy: 0.9147 - val_loss: 0.2722 - val_accuracy: 0.9216\n",
            "Epoch 4/15\n",
            "1715/1715 [==============================] - 3s 2ms/step - loss: 0.2652 - accuracy: 0.9241 - val_loss: 0.2517 - val_accuracy: 0.9267\n",
            "Epoch 5/15\n",
            "1715/1715 [==============================] - 3s 2ms/step - loss: 0.2432 - accuracy: 0.9307 - val_loss: 0.2284 - val_accuracy: 0.9365\n",
            "Epoch 6/15\n",
            "1715/1715 [==============================] - 3s 2ms/step - loss: 0.2248 - accuracy: 0.9358 - val_loss: 0.2150 - val_accuracy: 0.9368\n",
            "Epoch 7/15\n",
            "1715/1715 [==============================] - 3s 2ms/step - loss: 0.2085 - accuracy: 0.9405 - val_loss: 0.1991 - val_accuracy: 0.9415\n",
            "Epoch 8/15\n",
            "1715/1715 [==============================] - 3s 2ms/step - loss: 0.1946 - accuracy: 0.9448 - val_loss: 0.1994 - val_accuracy: 0.9398\n",
            "Epoch 9/15\n",
            "1715/1715 [==============================] - 2s 1ms/step - loss: 0.1822 - accuracy: 0.9477 - val_loss: 0.1821 - val_accuracy: 0.9465\n",
            "Epoch 10/15\n",
            "1715/1715 [==============================] - 2s 1ms/step - loss: 0.1718 - accuracy: 0.9509 - val_loss: 0.1658 - val_accuracy: 0.9505\n",
            "Epoch 11/15\n",
            "1715/1715 [==============================] - 3s 2ms/step - loss: 0.1620 - accuracy: 0.9532 - val_loss: 0.1689 - val_accuracy: 0.9502\n",
            "Epoch 12/15\n",
            "1715/1715 [==============================] - 3s 1ms/step - loss: 0.1538 - accuracy: 0.9560 - val_loss: 0.1525 - val_accuracy: 0.9557\n",
            "Epoch 13/15\n",
            "1715/1715 [==============================] - 3s 1ms/step - loss: 0.1462 - accuracy: 0.9580 - val_loss: 0.1554 - val_accuracy: 0.9555\n",
            "Epoch 14/15\n",
            "1715/1715 [==============================] - 3s 2ms/step - loss: 0.1395 - accuracy: 0.9593 - val_loss: 0.1430 - val_accuracy: 0.9580\n",
            "Epoch 15/15\n",
            "1715/1715 [==============================] - 3s 1ms/step - loss: 0.1332 - accuracy: 0.9610 - val_loss: 0.1408 - val_accuracy: 0.9601\n"
          ],
          "name": "stdout"
        }
      ]
    },
    {
      "cell_type": "code",
      "metadata": {
        "id": "sviIFdTuZ_N5",
        "outputId": "8673d640-8bbb-4ad3-dd71-f33c502cf9cc",
        "colab": {
          "base_uri": "https://localhost:8080/"
        }
      },
      "source": [
        "# fit the model \n",
        "# batch size 30\n",
        "model = create_model()\n",
        "bt_default = model.fit(X_train, y_train,\n",
        "                       epochs=10,\n",
        "                       batch_size=30,\n",
        "                       validation_data=(X_test, y_test))"
      ],
      "execution_count": 45,
      "outputs": [
        {
          "output_type": "stream",
          "text": [
            "Epoch 1/10\n",
            "2000/2000 [==============================] - 3s 2ms/step - loss: 0.7179 - accuracy: 0.7994 - val_loss: 0.3466 - val_accuracy: 0.8991\n",
            "Epoch 2/10\n",
            "2000/2000 [==============================] - 3s 1ms/step - loss: 0.3222 - accuracy: 0.9071 - val_loss: 0.2807 - val_accuracy: 0.9175\n",
            "Epoch 3/10\n",
            "2000/2000 [==============================] - 3s 2ms/step - loss: 0.2724 - accuracy: 0.9219 - val_loss: 0.2500 - val_accuracy: 0.9280\n",
            "Epoch 4/10\n",
            "2000/2000 [==============================] - 3s 2ms/step - loss: 0.2412 - accuracy: 0.9303 - val_loss: 0.2256 - val_accuracy: 0.9341\n",
            "Epoch 5/10\n",
            "2000/2000 [==============================] - 3s 2ms/step - loss: 0.2179 - accuracy: 0.9371 - val_loss: 0.2139 - val_accuracy: 0.9391\n",
            "Epoch 6/10\n",
            "2000/2000 [==============================] - 3s 2ms/step - loss: 0.1999 - accuracy: 0.9421 - val_loss: 0.1895 - val_accuracy: 0.9449\n",
            "Epoch 7/10\n",
            "2000/2000 [==============================] - 3s 2ms/step - loss: 0.1845 - accuracy: 0.9463 - val_loss: 0.1803 - val_accuracy: 0.9482\n",
            "Epoch 8/10\n",
            "2000/2000 [==============================] - 3s 2ms/step - loss: 0.1714 - accuracy: 0.9502 - val_loss: 0.1783 - val_accuracy: 0.9449\n",
            "Epoch 9/10\n",
            "2000/2000 [==============================] - 3s 2ms/step - loss: 0.1609 - accuracy: 0.9534 - val_loss: 0.1617 - val_accuracy: 0.9513\n",
            "Epoch 10/10\n",
            "2000/2000 [==============================] - 3s 2ms/step - loss: 0.1513 - accuracy: 0.9557 - val_loss: 0.1563 - val_accuracy: 0.9532\n"
          ],
          "name": "stdout"
        }
      ]
    },
    {
      "cell_type": "code",
      "metadata": {
        "id": "DBwSFtKfaRQW",
        "outputId": "45a0c423-ac28-47be-e64c-92b006bded00",
        "colab": {
          "base_uri": "https://localhost:8080/"
        }
      },
      "source": [
        "# fit the model \n",
        "# batch size 10\n",
        "model = create_model()\n",
        "bt_small = model.fit(X_train, y_train,\n",
        "                       epochs=10,\n",
        "                       batch_size=10,\n",
        "                       validation_data=(X_test, y_test))"
      ],
      "execution_count": 50,
      "outputs": [
        {
          "output_type": "stream",
          "text": [
            "Epoch 1/10\n",
            "6000/6000 [==============================] - 8s 1ms/step - loss: 0.4730 - accuracy: 0.8620 - val_loss: 0.2558 - val_accuracy: 0.9266\n",
            "Epoch 2/10\n",
            "6000/6000 [==============================] - 8s 1ms/step - loss: 0.2309 - accuracy: 0.9327 - val_loss: 0.1899 - val_accuracy: 0.9434\n",
            "Epoch 3/10\n",
            "6000/6000 [==============================] - 9s 1ms/step - loss: 0.1830 - accuracy: 0.9465 - val_loss: 0.1606 - val_accuracy: 0.9499\n",
            "Epoch 4/10\n",
            "6000/6000 [==============================] - 12s 2ms/step - loss: 0.1542 - accuracy: 0.9550 - val_loss: 0.1450 - val_accuracy: 0.9560\n",
            "Epoch 5/10\n",
            "6000/6000 [==============================] - 11s 2ms/step - loss: 0.1348 - accuracy: 0.9598 - val_loss: 0.1465 - val_accuracy: 0.9539\n",
            "Epoch 6/10\n",
            "6000/6000 [==============================] - 11s 2ms/step - loss: 0.1199 - accuracy: 0.9645 - val_loss: 0.1320 - val_accuracy: 0.9580\n",
            "Epoch 7/10\n",
            "6000/6000 [==============================] - 8s 1ms/step - loss: 0.1087 - accuracy: 0.9671 - val_loss: 0.1165 - val_accuracy: 0.9640\n",
            "Epoch 8/10\n",
            "6000/6000 [==============================] - 8s 1ms/step - loss: 0.1001 - accuracy: 0.9702 - val_loss: 0.1182 - val_accuracy: 0.9633\n",
            "Epoch 9/10\n",
            "6000/6000 [==============================] - 8s 1ms/step - loss: 0.0911 - accuracy: 0.9730 - val_loss: 0.1130 - val_accuracy: 0.9651\n",
            "Epoch 10/10\n",
            "6000/6000 [==============================] - 8s 1ms/step - loss: 0.0862 - accuracy: 0.9737 - val_loss: 0.1122 - val_accuracy: 0.9654\n"
          ],
          "name": "stdout"
        }
      ]
    },
    {
      "cell_type": "code",
      "metadata": {
        "id": "0kiMOZkbasU0",
        "outputId": "a2387a97-6382-49e6-a888-7fa36243170b",
        "colab": {
          "base_uri": "https://localhost:8080/"
        }
      },
      "source": [
        "# fit the model \n",
        "# batch size 40\n",
        "model = create_model()\n",
        "bt_default = model.fit(X_train, y_train,\n",
        "                       epochs=10,\n",
        "                       batch_size=20,\n",
        "                       validation_data=(X_test, y_test))"
      ],
      "execution_count": 51,
      "outputs": [
        {
          "output_type": "stream",
          "text": [
            "Epoch 1/10\n",
            "3000/3000 [==============================] - 4s 1ms/step - loss: 0.6319 - accuracy: 0.8220 - val_loss: 0.3046 - val_accuracy: 0.9111\n",
            "Epoch 2/10\n",
            "3000/3000 [==============================] - 4s 1ms/step - loss: 0.2909 - accuracy: 0.9156 - val_loss: 0.2522 - val_accuracy: 0.9278\n",
            "Epoch 3/10\n",
            "3000/3000 [==============================] - 4s 1ms/step - loss: 0.2435 - accuracy: 0.9298 - val_loss: 0.2227 - val_accuracy: 0.9333\n",
            "Epoch 4/10\n",
            "3000/3000 [==============================] - 4s 1ms/step - loss: 0.2128 - accuracy: 0.9393 - val_loss: 0.2027 - val_accuracy: 0.9406\n",
            "Epoch 5/10\n",
            "3000/3000 [==============================] - 4s 1ms/step - loss: 0.1912 - accuracy: 0.9447 - val_loss: 0.1901 - val_accuracy: 0.9443\n",
            "Epoch 6/10\n",
            "3000/3000 [==============================] - 4s 1ms/step - loss: 0.1739 - accuracy: 0.9496 - val_loss: 0.1705 - val_accuracy: 0.9508\n",
            "Epoch 7/10\n",
            "3000/3000 [==============================] - 4s 1ms/step - loss: 0.1595 - accuracy: 0.9540 - val_loss: 0.1583 - val_accuracy: 0.9534\n",
            "Epoch 8/10\n",
            "3000/3000 [==============================] - 4s 1ms/step - loss: 0.1474 - accuracy: 0.9570 - val_loss: 0.1510 - val_accuracy: 0.9543\n",
            "Epoch 9/10\n",
            "3000/3000 [==============================] - 4s 1ms/step - loss: 0.1365 - accuracy: 0.9596 - val_loss: 0.1478 - val_accuracy: 0.9563\n",
            "Epoch 10/10\n",
            "3000/3000 [==============================] - 4s 1ms/step - loss: 0.1274 - accuracy: 0.9627 - val_loss: 0.1439 - val_accuracy: 0.9556\n"
          ],
          "name": "stdout"
        }
      ]
    },
    {
      "cell_type": "code",
      "metadata": {
        "id": "CxgnZECpaznF",
        "outputId": "a7c92747-4110-404b-a0a0-ac3c19053e57",
        "colab": {
          "base_uri": "https://localhost:8080/"
        }
      },
      "source": [
        "# fit the model \n",
        "# batch size 256\n",
        "model = create_model()\n",
        "bt_large = model.fit(X_train, y_train,\n",
        "                       epochs=15,\n",
        "                       batch_size=256,\n",
        "                       validation_data=(X_test, y_test))"
      ],
      "execution_count": 48,
      "outputs": [
        {
          "output_type": "stream",
          "text": [
            "Epoch 1/15\n",
            "235/235 [==============================] - 1s 4ms/step - loss: 1.9863 - accuracy: 0.3690 - val_loss: 1.5845 - val_accuracy: 0.5622\n",
            "Epoch 2/15\n",
            "235/235 [==============================] - 1s 4ms/step - loss: 1.2104 - accuracy: 0.7048 - val_loss: 0.8788 - val_accuracy: 0.7964\n",
            "Epoch 3/15\n",
            "235/235 [==============================] - 1s 4ms/step - loss: 0.7480 - accuracy: 0.8161 - val_loss: 0.6095 - val_accuracy: 0.8486\n",
            "Epoch 4/15\n",
            "235/235 [==============================] - 1s 4ms/step - loss: 0.5706 - accuracy: 0.8509 - val_loss: 0.4970 - val_accuracy: 0.8708\n",
            "Epoch 5/15\n",
            "235/235 [==============================] - 1s 4ms/step - loss: 0.4854 - accuracy: 0.8695 - val_loss: 0.4367 - val_accuracy: 0.8824\n",
            "Epoch 6/15\n",
            "235/235 [==============================] - 1s 3ms/step - loss: 0.4351 - accuracy: 0.8805 - val_loss: 0.3989 - val_accuracy: 0.8907\n",
            "Epoch 7/15\n",
            "235/235 [==============================] - 1s 4ms/step - loss: 0.4015 - accuracy: 0.8881 - val_loss: 0.3712 - val_accuracy: 0.8959\n",
            "Epoch 8/15\n",
            "235/235 [==============================] - 1s 4ms/step - loss: 0.3769 - accuracy: 0.8944 - val_loss: 0.3516 - val_accuracy: 0.9020\n",
            "Epoch 9/15\n",
            "235/235 [==============================] - 1s 4ms/step - loss: 0.3578 - accuracy: 0.8994 - val_loss: 0.3372 - val_accuracy: 0.9046\n",
            "Epoch 10/15\n",
            "235/235 [==============================] - 1s 4ms/step - loss: 0.3425 - accuracy: 0.9033 - val_loss: 0.3245 - val_accuracy: 0.9086\n",
            "Epoch 11/15\n",
            "235/235 [==============================] - 1s 4ms/step - loss: 0.3298 - accuracy: 0.9063 - val_loss: 0.3134 - val_accuracy: 0.9114\n",
            "Epoch 12/15\n",
            "235/235 [==============================] - 1s 4ms/step - loss: 0.3192 - accuracy: 0.9097 - val_loss: 0.3042 - val_accuracy: 0.9131\n",
            "Epoch 13/15\n",
            "235/235 [==============================] - 1s 4ms/step - loss: 0.3099 - accuracy: 0.9117 - val_loss: 0.2975 - val_accuracy: 0.9155\n",
            "Epoch 14/15\n",
            "235/235 [==============================] - 1s 4ms/step - loss: 0.3017 - accuracy: 0.9137 - val_loss: 0.2894 - val_accuracy: 0.9168\n",
            "Epoch 15/15\n",
            "235/235 [==============================] - 1s 3ms/step - loss: 0.2945 - accuracy: 0.9158 - val_loss: 0.2831 - val_accuracy: 0.9180\n"
          ],
          "name": "stdout"
        }
      ]
    },
    {
      "cell_type": "code",
      "metadata": {
        "id": "USXjs7Hk71Hy",
        "outputId": "543de4c6-fbf2-4270-b5da-1d192cc3f7f3",
        "colab": {
          "base_uri": "https://localhost:8080/",
          "height": 199
        }
      },
      "source": [
        "# visualization of the results\n",
        "import seaborn as sns\n",
        "import pandas as pd\n",
        "\n",
        "batch_sizes = []\n",
        "\n",
        "for exp, result in zip([bt_default, bt_small, bt_large], [\"35_\", \"10_\", \"256_\"]):\n",
        "\n",
        "  df = pd.DataFrame.from_dict(exp.history)\n",
        "  df['epoch'] = df.index.values\n",
        "  df['Batch Size'] = result\n",
        "\n",
        "  batch_sizes.append(df)\n",
        "\n",
        "df = pd.concat(batch_sizes)\n",
        "df['Batch Size'] = df['Batch Size'].astype('str')\n",
        "df.head()"
      ],
      "execution_count": 52,
      "outputs": [
        {
          "output_type": "execute_result",
          "data": {
            "text/html": [
              "<div>\n",
              "<style scoped>\n",
              "    .dataframe tbody tr th:only-of-type {\n",
              "        vertical-align: middle;\n",
              "    }\n",
              "\n",
              "    .dataframe tbody tr th {\n",
              "        vertical-align: top;\n",
              "    }\n",
              "\n",
              "    .dataframe thead th {\n",
              "        text-align: right;\n",
              "    }\n",
              "</style>\n",
              "<table border=\"1\" class=\"dataframe\">\n",
              "  <thead>\n",
              "    <tr style=\"text-align: right;\">\n",
              "      <th></th>\n",
              "      <th>loss</th>\n",
              "      <th>accuracy</th>\n",
              "      <th>val_loss</th>\n",
              "      <th>val_accuracy</th>\n",
              "      <th>epoch</th>\n",
              "      <th>Batch Size</th>\n",
              "    </tr>\n",
              "  </thead>\n",
              "  <tbody>\n",
              "    <tr>\n",
              "      <th>0</th>\n",
              "      <td>0.631922</td>\n",
              "      <td>0.822000</td>\n",
              "      <td>0.304588</td>\n",
              "      <td>0.9111</td>\n",
              "      <td>0</td>\n",
              "      <td>35_</td>\n",
              "    </tr>\n",
              "    <tr>\n",
              "      <th>1</th>\n",
              "      <td>0.290890</td>\n",
              "      <td>0.915600</td>\n",
              "      <td>0.252202</td>\n",
              "      <td>0.9278</td>\n",
              "      <td>1</td>\n",
              "      <td>35_</td>\n",
              "    </tr>\n",
              "    <tr>\n",
              "      <th>2</th>\n",
              "      <td>0.243457</td>\n",
              "      <td>0.929817</td>\n",
              "      <td>0.222747</td>\n",
              "      <td>0.9333</td>\n",
              "      <td>2</td>\n",
              "      <td>35_</td>\n",
              "    </tr>\n",
              "    <tr>\n",
              "      <th>3</th>\n",
              "      <td>0.212776</td>\n",
              "      <td>0.939267</td>\n",
              "      <td>0.202662</td>\n",
              "      <td>0.9406</td>\n",
              "      <td>3</td>\n",
              "      <td>35_</td>\n",
              "    </tr>\n",
              "    <tr>\n",
              "      <th>4</th>\n",
              "      <td>0.191210</td>\n",
              "      <td>0.944717</td>\n",
              "      <td>0.190073</td>\n",
              "      <td>0.9443</td>\n",
              "      <td>4</td>\n",
              "      <td>35_</td>\n",
              "    </tr>\n",
              "  </tbody>\n",
              "</table>\n",
              "</div>"
            ],
            "text/plain": [
              "       loss  accuracy  val_loss  val_accuracy  epoch Batch Size\n",
              "0  0.631922  0.822000  0.304588        0.9111      0        35_\n",
              "1  0.290890  0.915600  0.252202        0.9278      1        35_\n",
              "2  0.243457  0.929817  0.222747        0.9333      2        35_\n",
              "3  0.212776  0.939267  0.202662        0.9406      3        35_\n",
              "4  0.191210  0.944717  0.190073        0.9443      4        35_"
            ]
          },
          "metadata": {
            "tags": []
          },
          "execution_count": 52
        }
      ]
    },
    {
      "cell_type": "code",
      "metadata": {
        "id": "5-m80XEhdCUf",
        "outputId": "c4264f7b-f871-47df-d58a-1fd2b1ea362f",
        "colab": {
          "base_uri": "https://localhost:8080/",
          "height": 279
        }
      },
      "source": [
        "# make a visualization\n",
        "sns.lineplot(x='epoch', y='val_accuracy', hue='Batch Size', data=df);"
      ],
      "execution_count": 53,
      "outputs": [
        {
          "output_type": "display_data",
          "data": {
            "image/png": "[encoded data removed]",
            "text/plain": [
              "<Figure size 432x288 with 1 Axes>"
            ]
          },
          "metadata": {
            "tags": [],
            "needs_background": "light"
          }
        }
      ]
    },
    {
      "cell_type": "markdown",
      "metadata": {
        "id": "8b-r70o8p2Dm"
      },
      "source": [
        "### Experiment with Learning Rate\n",
        "* Run 5 experiments with various learning rate magnitudes: 1, .1, .01, .001, .0001.\n",
        "* Use the \"best\" batch size from the previous experiment\n",
        "* Visualize the results\n",
        "* Write up an analysis of the experiments and select the \"best\" performing model among your experiments. Make sure to compare against the previous experiments and your model's performance yesterday. "
      ]
    },
    {
      "cell_type": "code",
      "metadata": {
        "id": "yrpnGuDFfEIw",
        "outputId": "317cfb77-1391-46a8-b3be-f4ab5fc1fe73",
        "colab": {
          "base_uri": "https://localhost:8080/"
        }
      },
      "source": [
        "model = create_model()\n",
        "# Default is 1\n",
        "lr_default = model.fit(X_train, y_train,\n",
        "                       epochs=35,\n",
        "                       validation_data=(X_test, y_test))"
      ],
      "execution_count": 57,
      "outputs": [
        {
          "output_type": "stream",
          "text": [
            "Epoch 1/35\n",
            "1875/1875 [==============================] - 3s 2ms/step - loss: 0.7168 - accuracy: 0.8017 - val_loss: 0.3410 - val_accuracy: 0.9048\n",
            "Epoch 2/35\n",
            "1875/1875 [==============================] - 3s 1ms/step - loss: 0.3142 - accuracy: 0.9098 - val_loss: 0.2690 - val_accuracy: 0.9225\n",
            "Epoch 3/35\n",
            "1875/1875 [==============================] - 3s 2ms/step - loss: 0.2628 - accuracy: 0.9242 - val_loss: 0.2338 - val_accuracy: 0.9330\n",
            "Epoch 4/35\n",
            "1875/1875 [==============================] - 3s 2ms/step - loss: 0.2326 - accuracy: 0.9339 - val_loss: 0.2078 - val_accuracy: 0.9397\n",
            "Epoch 5/35\n",
            "1875/1875 [==============================] - 3s 2ms/step - loss: 0.2099 - accuracy: 0.9408 - val_loss: 0.1968 - val_accuracy: 0.9426\n",
            "Epoch 6/35\n",
            "1875/1875 [==============================] - 3s 2ms/step - loss: 0.1927 - accuracy: 0.9446 - val_loss: 0.1794 - val_accuracy: 0.9478\n",
            "Epoch 7/35\n",
            "1875/1875 [==============================] - 3s 2ms/step - loss: 0.1790 - accuracy: 0.9486 - val_loss: 0.1670 - val_accuracy: 0.9508\n",
            "Epoch 8/35\n",
            "1875/1875 [==============================] - 3s 2ms/step - loss: 0.1672 - accuracy: 0.9524 - val_loss: 0.1609 - val_accuracy: 0.9543\n",
            "Epoch 9/35\n",
            "1875/1875 [==============================] - 3s 2ms/step - loss: 0.1574 - accuracy: 0.9548 - val_loss: 0.1542 - val_accuracy: 0.9545\n",
            "Epoch 10/35\n",
            "1875/1875 [==============================] - 3s 2ms/step - loss: 0.1491 - accuracy: 0.9571 - val_loss: 0.1463 - val_accuracy: 0.9578\n",
            "Epoch 11/35\n",
            "1875/1875 [==============================] - 3s 2ms/step - loss: 0.1416 - accuracy: 0.9598 - val_loss: 0.1425 - val_accuracy: 0.9591\n",
            "Epoch 12/35\n",
            "1875/1875 [==============================] - 3s 2ms/step - loss: 0.1345 - accuracy: 0.9613 - val_loss: 0.1365 - val_accuracy: 0.9587\n",
            "Epoch 13/35\n",
            "1875/1875 [==============================] - 3s 2ms/step - loss: 0.1289 - accuracy: 0.9625 - val_loss: 0.1318 - val_accuracy: 0.9607\n",
            "Epoch 14/35\n",
            "1875/1875 [==============================] - 3s 2ms/step - loss: 0.1241 - accuracy: 0.9640 - val_loss: 0.1289 - val_accuracy: 0.9629\n",
            "Epoch 15/35\n",
            "1875/1875 [==============================] - 3s 2ms/step - loss: 0.1188 - accuracy: 0.9657 - val_loss: 0.1237 - val_accuracy: 0.9622\n",
            "Epoch 16/35\n",
            "1875/1875 [==============================] - 3s 2ms/step - loss: 0.1142 - accuracy: 0.9664 - val_loss: 0.1192 - val_accuracy: 0.9649\n",
            "Epoch 17/35\n",
            "1875/1875 [==============================] - 3s 2ms/step - loss: 0.1100 - accuracy: 0.9683 - val_loss: 0.1160 - val_accuracy: 0.9654\n",
            "Epoch 18/35\n",
            "1875/1875 [==============================] - 3s 2ms/step - loss: 0.1056 - accuracy: 0.9698 - val_loss: 0.1147 - val_accuracy: 0.9651\n",
            "Epoch 19/35\n",
            "1875/1875 [==============================] - 3s 2ms/step - loss: 0.1019 - accuracy: 0.9703 - val_loss: 0.1137 - val_accuracy: 0.9659\n",
            "Epoch 20/35\n",
            "1875/1875 [==============================] - 3s 2ms/step - loss: 0.0981 - accuracy: 0.9712 - val_loss: 0.1143 - val_accuracy: 0.9669\n",
            "Epoch 21/35\n",
            "1875/1875 [==============================] - 3s 2ms/step - loss: 0.0955 - accuracy: 0.9725 - val_loss: 0.1095 - val_accuracy: 0.9667\n",
            "Epoch 22/35\n",
            "1875/1875 [==============================] - 3s 2ms/step - loss: 0.0925 - accuracy: 0.9728 - val_loss: 0.1109 - val_accuracy: 0.9666\n",
            "Epoch 23/35\n",
            "1875/1875 [==============================] - 3s 2ms/step - loss: 0.0897 - accuracy: 0.9741 - val_loss: 0.1077 - val_accuracy: 0.9686\n",
            "Epoch 24/35\n",
            "1875/1875 [==============================] - 3s 2ms/step - loss: 0.0868 - accuracy: 0.9750 - val_loss: 0.1060 - val_accuracy: 0.9683\n",
            "Epoch 25/35\n",
            "1875/1875 [==============================] - 3s 2ms/step - loss: 0.0848 - accuracy: 0.9757 - val_loss: 0.1033 - val_accuracy: 0.9691\n",
            "Epoch 26/35\n",
            "1875/1875 [==============================] - 3s 2ms/step - loss: 0.0822 - accuracy: 0.9767 - val_loss: 0.1000 - val_accuracy: 0.9706\n",
            "Epoch 27/35\n",
            "1875/1875 [==============================] - 3s 2ms/step - loss: 0.0794 - accuracy: 0.9772 - val_loss: 0.1000 - val_accuracy: 0.9701\n",
            "Epoch 28/35\n",
            "1875/1875 [==============================] - 4s 2ms/step - loss: 0.0774 - accuracy: 0.9776 - val_loss: 0.0983 - val_accuracy: 0.9702\n",
            "Epoch 29/35\n",
            "1875/1875 [==============================] - 3s 2ms/step - loss: 0.0757 - accuracy: 0.9783 - val_loss: 0.0981 - val_accuracy: 0.9714\n",
            "Epoch 30/35\n",
            "1875/1875 [==============================] - 3s 2ms/step - loss: 0.0737 - accuracy: 0.9786 - val_loss: 0.0973 - val_accuracy: 0.9717\n",
            "Epoch 31/35\n",
            "1875/1875 [==============================] - 3s 2ms/step - loss: 0.0718 - accuracy: 0.9790 - val_loss: 0.0954 - val_accuracy: 0.9722\n",
            "Epoch 32/35\n",
            "1875/1875 [==============================] - 3s 2ms/step - loss: 0.0698 - accuracy: 0.9798 - val_loss: 0.0988 - val_accuracy: 0.9705\n",
            "Epoch 33/35\n",
            "1875/1875 [==============================] - 3s 2ms/step - loss: 0.0686 - accuracy: 0.9800 - val_loss: 0.1005 - val_accuracy: 0.9683\n",
            "Epoch 34/35\n",
            "1875/1875 [==============================] - 3s 2ms/step - loss: 0.0665 - accuracy: 0.9805 - val_loss: 0.0962 - val_accuracy: 0.9722\n",
            "Epoch 35/35\n",
            "1875/1875 [==============================] - 3s 2ms/step - loss: 0.0654 - accuracy: 0.9812 - val_loss: 0.0975 - val_accuracy: 0.9707\n"
          ],
          "name": "stdout"
        }
      ]
    },
    {
      "cell_type": "code",
      "metadata": {
        "id": "SCB99F8se2_G"
      },
      "source": [
        "model = create_model()\n",
        "# Default is 0.1\n",
        "lr_default = model.fit(X_train, y_train,\n",
        "                       epochs=35,\n",
        "                       validation_data=(X_test, y_test))"
      ],
      "execution_count": null,
      "outputs": []
    },
    {
      "cell_type": "code",
      "metadata": {
        "id": "_SA144xx8Luf",
        "outputId": "b4866185-8d93-4820-e506-3dcfe0104058",
        "colab": {
          "base_uri": "https://localhost:8080/"
        }
      },
      "source": [
        "model = create_model()\n",
        "# Default is 0.01\n",
        "lr_default = model.fit(X_train, y_train,\n",
        "                       epochs=35,\n",
        "                       validation_data=(X_test, y_test))"
      ],
      "execution_count": 54,
      "outputs": [
        {
          "output_type": "stream",
          "text": [
            "Epoch 1/35\n",
            "1875/1875 [==============================] - 3s 2ms/step - loss: 0.7475 - accuracy: 0.7898 - val_loss: 0.3529 - val_accuracy: 0.8949\n",
            "Epoch 2/35\n",
            "1875/1875 [==============================] - 3s 1ms/step - loss: 0.3288 - accuracy: 0.9064 - val_loss: 0.2811 - val_accuracy: 0.9181\n",
            "Epoch 3/35\n",
            "1875/1875 [==============================] - 3s 1ms/step - loss: 0.2787 - accuracy: 0.9195 - val_loss: 0.2544 - val_accuracy: 0.9249\n",
            "Epoch 4/35\n",
            "1875/1875 [==============================] - 3s 2ms/step - loss: 0.2485 - accuracy: 0.9289 - val_loss: 0.2337 - val_accuracy: 0.9293\n",
            "Epoch 5/35\n",
            "1875/1875 [==============================] - 3s 2ms/step - loss: 0.2251 - accuracy: 0.9348 - val_loss: 0.2088 - val_accuracy: 0.9370\n",
            "Epoch 6/35\n",
            "1875/1875 [==============================] - 3s 2ms/step - loss: 0.2072 - accuracy: 0.9409 - val_loss: 0.1934 - val_accuracy: 0.9409\n",
            "Epoch 7/35\n",
            "1875/1875 [==============================] - 3s 1ms/step - loss: 0.1933 - accuracy: 0.9444 - val_loss: 0.1827 - val_accuracy: 0.9451\n",
            "Epoch 8/35\n",
            "1875/1875 [==============================] - 3s 2ms/step - loss: 0.1809 - accuracy: 0.9480 - val_loss: 0.1703 - val_accuracy: 0.9472\n",
            "Epoch 9/35\n",
            "1875/1875 [==============================] - 3s 2ms/step - loss: 0.1703 - accuracy: 0.9511 - val_loss: 0.1652 - val_accuracy: 0.9503\n",
            "Epoch 10/35\n",
            "1875/1875 [==============================] - 3s 2ms/step - loss: 0.1609 - accuracy: 0.9539 - val_loss: 0.1578 - val_accuracy: 0.9512\n",
            "Epoch 11/35\n",
            "1875/1875 [==============================] - 3s 2ms/step - loss: 0.1532 - accuracy: 0.9560 - val_loss: 0.1538 - val_accuracy: 0.9523\n",
            "Epoch 12/35\n",
            "1875/1875 [==============================] - 3s 1ms/step - loss: 0.1457 - accuracy: 0.9579 - val_loss: 0.1468 - val_accuracy: 0.9548\n",
            "Epoch 13/35\n",
            "1875/1875 [==============================] - 3s 1ms/step - loss: 0.1392 - accuracy: 0.9599 - val_loss: 0.1437 - val_accuracy: 0.9557\n",
            "Epoch 14/35\n",
            "1875/1875 [==============================] - 3s 1ms/step - loss: 0.1332 - accuracy: 0.9614 - val_loss: 0.1387 - val_accuracy: 0.9558\n",
            "Epoch 15/35\n",
            "1875/1875 [==============================] - 3s 1ms/step - loss: 0.1275 - accuracy: 0.9632 - val_loss: 0.1326 - val_accuracy: 0.9590\n",
            "Epoch 16/35\n",
            "1875/1875 [==============================] - 3s 1ms/step - loss: 0.1227 - accuracy: 0.9643 - val_loss: 0.1324 - val_accuracy: 0.9573\n",
            "Epoch 17/35\n",
            "1875/1875 [==============================] - 3s 2ms/step - loss: 0.1173 - accuracy: 0.9657 - val_loss: 0.1259 - val_accuracy: 0.9593\n",
            "Epoch 18/35\n",
            "1875/1875 [==============================] - 3s 1ms/step - loss: 0.1127 - accuracy: 0.9674 - val_loss: 0.1264 - val_accuracy: 0.9597\n",
            "Epoch 19/35\n",
            "1875/1875 [==============================] - 3s 2ms/step - loss: 0.1084 - accuracy: 0.9685 - val_loss: 0.1225 - val_accuracy: 0.9619\n",
            "Epoch 20/35\n",
            "1875/1875 [==============================] - 3s 2ms/step - loss: 0.1047 - accuracy: 0.9693 - val_loss: 0.1152 - val_accuracy: 0.9641\n",
            "Epoch 21/35\n",
            "1875/1875 [==============================] - 3s 2ms/step - loss: 0.1011 - accuracy: 0.9707 - val_loss: 0.1193 - val_accuracy: 0.9624\n",
            "Epoch 22/35\n",
            "1875/1875 [==============================] - 3s 2ms/step - loss: 0.0978 - accuracy: 0.9708 - val_loss: 0.1206 - val_accuracy: 0.9627\n",
            "Epoch 23/35\n",
            "1875/1875 [==============================] - 3s 2ms/step - loss: 0.0951 - accuracy: 0.9726 - val_loss: 0.1152 - val_accuracy: 0.9636\n",
            "Epoch 24/35\n",
            "1875/1875 [==============================] - 3s 1ms/step - loss: 0.0918 - accuracy: 0.9727 - val_loss: 0.1162 - val_accuracy: 0.9641\n",
            "Epoch 25/35\n",
            "1875/1875 [==============================] - 3s 1ms/step - loss: 0.0894 - accuracy: 0.9736 - val_loss: 0.1162 - val_accuracy: 0.9644\n",
            "Epoch 26/35\n",
            "1875/1875 [==============================] - 3s 1ms/step - loss: 0.0870 - accuracy: 0.9742 - val_loss: 0.1106 - val_accuracy: 0.9659\n",
            "Epoch 27/35\n",
            "1875/1875 [==============================] - 3s 2ms/step - loss: 0.0847 - accuracy: 0.9751 - val_loss: 0.1098 - val_accuracy: 0.9665\n",
            "Epoch 28/35\n",
            "1875/1875 [==============================] - 3s 1ms/step - loss: 0.0823 - accuracy: 0.9755 - val_loss: 0.1115 - val_accuracy: 0.9641\n",
            "Epoch 29/35\n",
            "1875/1875 [==============================] - 3s 1ms/step - loss: 0.0806 - accuracy: 0.9763 - val_loss: 0.1092 - val_accuracy: 0.9678\n",
            "Epoch 30/35\n",
            "1875/1875 [==============================] - 3s 2ms/step - loss: 0.0782 - accuracy: 0.9772 - val_loss: 0.1123 - val_accuracy: 0.9662\n",
            "Epoch 31/35\n",
            "1875/1875 [==============================] - 3s 2ms/step - loss: 0.0760 - accuracy: 0.9775 - val_loss: 0.1067 - val_accuracy: 0.9666\n",
            "Epoch 32/35\n",
            "1875/1875 [==============================] - 3s 2ms/step - loss: 0.0745 - accuracy: 0.9783 - val_loss: 0.1113 - val_accuracy: 0.9674\n",
            "Epoch 33/35\n",
            "1875/1875 [==============================] - 4s 2ms/step - loss: 0.0724 - accuracy: 0.9788 - val_loss: 0.1064 - val_accuracy: 0.9695\n",
            "Epoch 34/35\n",
            "1875/1875 [==============================] - 3s 2ms/step - loss: 0.0713 - accuracy: 0.9791 - val_loss: 0.1069 - val_accuracy: 0.9681\n",
            "Epoch 35/35\n",
            "1875/1875 [==============================] - 3s 1ms/step - loss: 0.0695 - accuracy: 0.9794 - val_loss: 0.1036 - val_accuracy: 0.9700\n"
          ],
          "name": "stdout"
        }
      ]
    },
    {
      "cell_type": "code",
      "metadata": {
        "id": "KypEQMV2eR_K",
        "outputId": "079a53c2-dfbb-4f02-96ba-ddf067446101",
        "colab": {
          "base_uri": "https://localhost:8080/"
        }
      },
      "source": [
        "model = create_model(lr=0.001)\n",
        "lr_low = model.fit(X_train, y_train,\n",
        "                    epochs=35,\n",
        "                    validation_data=(X_test, y_test))"
      ],
      "execution_count": 61,
      "outputs": [
        {
          "output_type": "stream",
          "text": [
            "Epoch 1/35\n",
            "1875/1875 [==============================] - 3s 2ms/step - loss: 2.0642 - accuracy: 0.3035 - val_loss: 1.7523 - val_accuracy: 0.4859\n",
            "Epoch 2/35\n",
            "1875/1875 [==============================] - 3s 2ms/step - loss: 1.4163 - accuracy: 0.6047 - val_loss: 1.0881 - val_accuracy: 0.7370\n",
            "Epoch 3/35\n",
            "1875/1875 [==============================] - 3s 2ms/step - loss: 0.8996 - accuracy: 0.7856 - val_loss: 0.7267 - val_accuracy: 0.8280\n",
            "Epoch 4/35\n",
            "1875/1875 [==============================] - 3s 1ms/step - loss: 0.6595 - accuracy: 0.8331 - val_loss: 0.5716 - val_accuracy: 0.8525\n",
            "Epoch 5/35\n",
            "1875/1875 [==============================] - 3s 2ms/step - loss: 0.5472 - accuracy: 0.8548 - val_loss: 0.4930 - val_accuracy: 0.8690\n",
            "Epoch 6/35\n",
            "1875/1875 [==============================] - 3s 2ms/step - loss: 0.4841 - accuracy: 0.8689 - val_loss: 0.4454 - val_accuracy: 0.8793\n",
            "Epoch 7/35\n",
            "1875/1875 [==============================] - 3s 1ms/step - loss: 0.4433 - accuracy: 0.8785 - val_loss: 0.4120 - val_accuracy: 0.8868\n",
            "Epoch 8/35\n",
            "1875/1875 [==============================] - 3s 1ms/step - loss: 0.4139 - accuracy: 0.8849 - val_loss: 0.3884 - val_accuracy: 0.8926\n",
            "Epoch 9/35\n",
            "1875/1875 [==============================] - 3s 1ms/step - loss: 0.3918 - accuracy: 0.8906 - val_loss: 0.3691 - val_accuracy: 0.8961\n",
            "Epoch 10/35\n",
            "1875/1875 [==============================] - 3s 2ms/step - loss: 0.3741 - accuracy: 0.8949 - val_loss: 0.3538 - val_accuracy: 0.9002\n",
            "Epoch 11/35\n",
            "1875/1875 [==============================] - 3s 2ms/step - loss: 0.3596 - accuracy: 0.8983 - val_loss: 0.3418 - val_accuracy: 0.9038\n",
            "Epoch 12/35\n",
            "1875/1875 [==============================] - 3s 2ms/step - loss: 0.3474 - accuracy: 0.9016 - val_loss: 0.3304 - val_accuracy: 0.9068\n",
            "Epoch 13/35\n",
            "1875/1875 [==============================] - 3s 1ms/step - loss: 0.3366 - accuracy: 0.9041 - val_loss: 0.3210 - val_accuracy: 0.9087\n",
            "Epoch 14/35\n",
            "1875/1875 [==============================] - 3s 2ms/step - loss: 0.3272 - accuracy: 0.9069 - val_loss: 0.3133 - val_accuracy: 0.9112\n",
            "Epoch 15/35\n",
            "1875/1875 [==============================] - 3s 1ms/step - loss: 0.3188 - accuracy: 0.9085 - val_loss: 0.3055 - val_accuracy: 0.9128\n",
            "Epoch 16/35\n",
            "1875/1875 [==============================] - 3s 2ms/step - loss: 0.3113 - accuracy: 0.9107 - val_loss: 0.2985 - val_accuracy: 0.9133\n",
            "Epoch 17/35\n",
            "1875/1875 [==============================] - 3s 2ms/step - loss: 0.3046 - accuracy: 0.9130 - val_loss: 0.2930 - val_accuracy: 0.9157\n",
            "Epoch 18/35\n",
            "1875/1875 [==============================] - 3s 1ms/step - loss: 0.2984 - accuracy: 0.9143 - val_loss: 0.2871 - val_accuracy: 0.9167\n",
            "Epoch 19/35\n",
            "1875/1875 [==============================] - 3s 2ms/step - loss: 0.2927 - accuracy: 0.9156 - val_loss: 0.2823 - val_accuracy: 0.9177\n",
            "Epoch 20/35\n",
            "1875/1875 [==============================] - 3s 2ms/step - loss: 0.2876 - accuracy: 0.9170 - val_loss: 0.2776 - val_accuracy: 0.9206\n",
            "Epoch 21/35\n",
            "1875/1875 [==============================] - 3s 2ms/step - loss: 0.2827 - accuracy: 0.9186 - val_loss: 0.2730 - val_accuracy: 0.9208\n",
            "Epoch 22/35\n",
            "1875/1875 [==============================] - 3s 1ms/step - loss: 0.2783 - accuracy: 0.9200 - val_loss: 0.2691 - val_accuracy: 0.9214\n",
            "Epoch 23/35\n",
            "1875/1875 [==============================] - 3s 2ms/step - loss: 0.2739 - accuracy: 0.9215 - val_loss: 0.2667 - val_accuracy: 0.9231\n",
            "Epoch 24/35\n",
            "1875/1875 [==============================] - 3s 1ms/step - loss: 0.2701 - accuracy: 0.9225 - val_loss: 0.2619 - val_accuracy: 0.9240\n",
            "Epoch 25/35\n",
            "1875/1875 [==============================] - 3s 2ms/step - loss: 0.2661 - accuracy: 0.9235 - val_loss: 0.2577 - val_accuracy: 0.9264\n",
            "Epoch 26/35\n",
            "1875/1875 [==============================] - 3s 2ms/step - loss: 0.2626 - accuracy: 0.9245 - val_loss: 0.2543 - val_accuracy: 0.9270\n",
            "Epoch 27/35\n",
            "1875/1875 [==============================] - 3s 2ms/step - loss: 0.2592 - accuracy: 0.9255 - val_loss: 0.2513 - val_accuracy: 0.9283\n",
            "Epoch 28/35\n",
            "1875/1875 [==============================] - 3s 2ms/step - loss: 0.2559 - accuracy: 0.9265 - val_loss: 0.2484 - val_accuracy: 0.9280\n",
            "Epoch 29/35\n",
            "1875/1875 [==============================] - 3s 2ms/step - loss: 0.2528 - accuracy: 0.9273 - val_loss: 0.2463 - val_accuracy: 0.9293\n",
            "Epoch 30/35\n",
            "1875/1875 [==============================] - 3s 2ms/step - loss: 0.2499 - accuracy: 0.9284 - val_loss: 0.2428 - val_accuracy: 0.9299\n",
            "Epoch 31/35\n",
            "1875/1875 [==============================] - 3s 2ms/step - loss: 0.2470 - accuracy: 0.9294 - val_loss: 0.2406 - val_accuracy: 0.9296\n",
            "Epoch 32/35\n",
            "1875/1875 [==============================] - 3s 2ms/step - loss: 0.2442 - accuracy: 0.9297 - val_loss: 0.2382 - val_accuracy: 0.9302\n",
            "Epoch 33/35\n",
            "1875/1875 [==============================] - 3s 2ms/step - loss: 0.2417 - accuracy: 0.9306 - val_loss: 0.2357 - val_accuracy: 0.9312\n",
            "Epoch 34/35\n",
            "1875/1875 [==============================] - 3s 2ms/step - loss: 0.2390 - accuracy: 0.9314 - val_loss: 0.2335 - val_accuracy: 0.9321\n",
            "Epoch 35/35\n",
            "1875/1875 [==============================] - 3s 2ms/step - loss: 0.2366 - accuracy: 0.9320 - val_loss: 0.2312 - val_accuracy: 0.9324\n"
          ],
          "name": "stdout"
        }
      ]
    },
    {
      "cell_type": "code",
      "metadata": {
        "id": "exik7lTHeFcF",
        "outputId": "2f9c2620-adfe-40d6-dc23-7cca06dcd3af",
        "colab": {
          "base_uri": "https://localhost:8080/"
        }
      },
      "source": [
        "model = create_model(lr=0.0001)\n",
        "lr_high = model.fit(X_train, y_train,\n",
        "                    epochs=35,\n",
        "                    validation_data=(X_test, y_test))"
      ],
      "execution_count": 62,
      "outputs": [
        {
          "output_type": "stream",
          "text": [
            "Epoch 1/35\n",
            "1875/1875 [==============================] - 3s 2ms/step - loss: 2.2679 - accuracy: 0.1791 - val_loss: 2.2275 - val_accuracy: 0.2132\n",
            "Epoch 2/35\n",
            "1875/1875 [==============================] - 3s 2ms/step - loss: 2.2010 - accuracy: 0.2535 - val_loss: 2.1640 - val_accuracy: 0.2919\n",
            "Epoch 3/35\n",
            "1875/1875 [==============================] - 3s 2ms/step - loss: 2.1418 - accuracy: 0.3160 - val_loss: 2.1027 - val_accuracy: 0.3532\n",
            "Epoch 4/35\n",
            "1875/1875 [==============================] - 3s 2ms/step - loss: 2.0822 - accuracy: 0.3663 - val_loss: 2.0394 - val_accuracy: 0.4005\n",
            "Epoch 5/35\n",
            "1875/1875 [==============================] - 3s 2ms/step - loss: 2.0196 - accuracy: 0.4111 - val_loss: 1.9725 - val_accuracy: 0.4434\n",
            "Epoch 6/35\n",
            "1875/1875 [==============================] - 3s 2ms/step - loss: 1.9529 - accuracy: 0.4551 - val_loss: 1.9015 - val_accuracy: 0.4878\n",
            "Epoch 7/35\n",
            "1875/1875 [==============================] - 3s 2ms/step - loss: 1.8816 - accuracy: 0.4965 - val_loss: 1.8260 - val_accuracy: 0.5276\n",
            "Epoch 8/35\n",
            "1875/1875 [==============================] - 3s 2ms/step - loss: 1.8059 - accuracy: 0.5343 - val_loss: 1.7464 - val_accuracy: 0.5653\n",
            "Epoch 9/35\n",
            "1875/1875 [==============================] - 4s 2ms/step - loss: 1.7265 - accuracy: 0.5717 - val_loss: 1.6641 - val_accuracy: 0.6016\n",
            "Epoch 10/35\n",
            "1875/1875 [==============================] - 3s 2ms/step - loss: 1.6448 - accuracy: 0.6057 - val_loss: 1.5804 - val_accuracy: 0.6349\n",
            "Epoch 11/35\n",
            "1875/1875 [==============================] - 3s 2ms/step - loss: 1.5622 - accuracy: 0.6381 - val_loss: 1.4964 - val_accuracy: 0.6648\n",
            "Epoch 12/35\n",
            "1875/1875 [==============================] - 3s 2ms/step - loss: 1.4796 - accuracy: 0.6661 - val_loss: 1.4134 - val_accuracy: 0.6942\n",
            "Epoch 13/35\n",
            "1875/1875 [==============================] - 3s 2ms/step - loss: 1.3982 - accuracy: 0.6920 - val_loss: 1.3324 - val_accuracy: 0.7179\n",
            "Epoch 14/35\n",
            "1875/1875 [==============================] - 3s 2ms/step - loss: 1.3192 - accuracy: 0.7152 - val_loss: 1.2547 - val_accuracy: 0.7381\n",
            "Epoch 15/35\n",
            "1875/1875 [==============================] - 3s 2ms/step - loss: 1.2437 - accuracy: 0.7346 - val_loss: 1.1810 - val_accuracy: 0.7536\n",
            "Epoch 16/35\n",
            "1875/1875 [==============================] - 3s 1ms/step - loss: 1.1726 - accuracy: 0.7506 - val_loss: 1.1122 - val_accuracy: 0.7685\n",
            "Epoch 17/35\n",
            "1875/1875 [==============================] - 3s 2ms/step - loss: 1.1065 - accuracy: 0.7653 - val_loss: 1.0486 - val_accuracy: 0.7805\n",
            "Epoch 18/35\n",
            "1875/1875 [==============================] - 3s 1ms/step - loss: 1.0457 - accuracy: 0.7769 - val_loss: 0.9905 - val_accuracy: 0.7922\n",
            "Epoch 19/35\n",
            "1875/1875 [==============================] - 3s 2ms/step - loss: 0.9902 - accuracy: 0.7873 - val_loss: 0.9377 - val_accuracy: 0.8016\n",
            "Epoch 20/35\n",
            "1875/1875 [==============================] - 3s 1ms/step - loss: 0.9399 - accuracy: 0.7965 - val_loss: 0.8900 - val_accuracy: 0.8074\n",
            "Epoch 21/35\n",
            "1875/1875 [==============================] - 3s 1ms/step - loss: 0.8944 - accuracy: 0.8047 - val_loss: 0.8471 - val_accuracy: 0.8152\n",
            "Epoch 22/35\n",
            "1875/1875 [==============================] - 3s 1ms/step - loss: 0.8533 - accuracy: 0.8109 - val_loss: 0.8083 - val_accuracy: 0.8218\n",
            "Epoch 23/35\n",
            "1875/1875 [==============================] - 3s 2ms/step - loss: 0.8162 - accuracy: 0.8174 - val_loss: 0.7736 - val_accuracy: 0.8252\n",
            "Epoch 24/35\n",
            "1875/1875 [==============================] - 3s 2ms/step - loss: 0.7828 - accuracy: 0.8225 - val_loss: 0.7420 - val_accuracy: 0.8322\n",
            "Epoch 25/35\n",
            "1875/1875 [==============================] - 3s 2ms/step - loss: 0.7525 - accuracy: 0.8275 - val_loss: 0.7135 - val_accuracy: 0.8363\n",
            "Epoch 26/35\n",
            "1875/1875 [==============================] - 3s 2ms/step - loss: 0.7251 - accuracy: 0.8319 - val_loss: 0.6876 - val_accuracy: 0.8416\n",
            "Epoch 27/35\n",
            "1875/1875 [==============================] - 3s 2ms/step - loss: 0.7003 - accuracy: 0.8365 - val_loss: 0.6644 - val_accuracy: 0.8449\n",
            "Epoch 28/35\n",
            "1875/1875 [==============================] - 3s 2ms/step - loss: 0.6777 - accuracy: 0.8400 - val_loss: 0.6430 - val_accuracy: 0.8478\n",
            "Epoch 29/35\n",
            "1875/1875 [==============================] - 3s 1ms/step - loss: 0.6571 - accuracy: 0.8434 - val_loss: 0.6237 - val_accuracy: 0.8504\n",
            "Epoch 30/35\n",
            "1875/1875 [==============================] - 3s 2ms/step - loss: 0.6382 - accuracy: 0.8464 - val_loss: 0.6060 - val_accuracy: 0.8536\n",
            "Epoch 31/35\n",
            "1875/1875 [==============================] - 3s 2ms/step - loss: 0.6210 - accuracy: 0.8490 - val_loss: 0.5898 - val_accuracy: 0.8573\n",
            "Epoch 32/35\n",
            "1875/1875 [==============================] - 3s 1ms/step - loss: 0.6051 - accuracy: 0.8518 - val_loss: 0.5748 - val_accuracy: 0.8594\n",
            "Epoch 33/35\n",
            "1875/1875 [==============================] - 3s 2ms/step - loss: 0.5905 - accuracy: 0.8543 - val_loss: 0.5613 - val_accuracy: 0.8624\n",
            "Epoch 34/35\n",
            "1875/1875 [==============================] - 3s 2ms/step - loss: 0.5771 - accuracy: 0.8565 - val_loss: 0.5486 - val_accuracy: 0.8640\n",
            "Epoch 35/35\n",
            "1875/1875 [==============================] - 3s 2ms/step - loss: 0.5646 - accuracy: 0.8585 - val_loss: 0.5370 - val_accuracy: 0.8663\n"
          ],
          "name": "stdout"
        }
      ]
    },
    {
      "cell_type": "code",
      "metadata": {
        "id": "MUFmGIIjgW-i",
        "outputId": "697ae864-d3ca-4df3-f2ff-4d95eab8b253",
        "colab": {
          "base_uri": "https://localhost:8080/",
          "height": 199
        }
      },
      "source": [
        "# visualization the results\n",
        "import seaborn as sns\n",
        "import pandas as pd\n",
        "\n",
        "batch_sizes = []\n",
        "\n",
        "for exp, result in zip([lr_default, lr_low, lr_high],\n",
        "                       [\".01_\", \".001_\", \".0001_\"]):\n",
        "\n",
        "  df = pd.DataFrame.from_dict(exp.history)\n",
        "  df['epoch'] = df.index.values\n",
        "  df['Learning Rate'] = result\n",
        "\n",
        "  batch_sizes.append(df)\n",
        "\n",
        "df = pd.concat(batch_sizes)\n",
        "df['Learning Rate'] = df['Learning Rate'].astype('str')\n",
        "df.head()"
      ],
      "execution_count": 63,
      "outputs": [
        {
          "output_type": "execute_result",
          "data": {
            "text/html": [
              "<div>\n",
              "<style scoped>\n",
              "    .dataframe tbody tr th:only-of-type {\n",
              "        vertical-align: middle;\n",
              "    }\n",
              "\n",
              "    .dataframe tbody tr th {\n",
              "        vertical-align: top;\n",
              "    }\n",
              "\n",
              "    .dataframe thead th {\n",
              "        text-align: right;\n",
              "    }\n",
              "</style>\n",
              "<table border=\"1\" class=\"dataframe\">\n",
              "  <thead>\n",
              "    <tr style=\"text-align: right;\">\n",
              "      <th></th>\n",
              "      <th>loss</th>\n",
              "      <th>accuracy</th>\n",
              "      <th>val_loss</th>\n",
              "      <th>val_accuracy</th>\n",
              "      <th>epoch</th>\n",
              "      <th>Learning Rate</th>\n",
              "    </tr>\n",
              "  </thead>\n",
              "  <tbody>\n",
              "    <tr>\n",
              "      <th>0</th>\n",
              "      <td>0.716795</td>\n",
              "      <td>0.801700</td>\n",
              "      <td>0.341018</td>\n",
              "      <td>0.9048</td>\n",
              "      <td>0</td>\n",
              "      <td>.01_</td>\n",
              "    </tr>\n",
              "    <tr>\n",
              "      <th>1</th>\n",
              "      <td>0.314221</td>\n",
              "      <td>0.909783</td>\n",
              "      <td>0.268962</td>\n",
              "      <td>0.9225</td>\n",
              "      <td>1</td>\n",
              "      <td>.01_</td>\n",
              "    </tr>\n",
              "    <tr>\n",
              "      <th>2</th>\n",
              "      <td>0.262822</td>\n",
              "      <td>0.924217</td>\n",
              "      <td>0.233764</td>\n",
              "      <td>0.9330</td>\n",
              "      <td>2</td>\n",
              "      <td>.01_</td>\n",
              "    </tr>\n",
              "    <tr>\n",
              "      <th>3</th>\n",
              "      <td>0.232624</td>\n",
              "      <td>0.933933</td>\n",
              "      <td>0.207849</td>\n",
              "      <td>0.9397</td>\n",
              "      <td>3</td>\n",
              "      <td>.01_</td>\n",
              "    </tr>\n",
              "    <tr>\n",
              "      <th>4</th>\n",
              "      <td>0.209899</td>\n",
              "      <td>0.940750</td>\n",
              "      <td>0.196828</td>\n",
              "      <td>0.9426</td>\n",
              "      <td>4</td>\n",
              "      <td>.01_</td>\n",
              "    </tr>\n",
              "  </tbody>\n",
              "</table>\n",
              "</div>"
            ],
            "text/plain": [
              "       loss  accuracy  val_loss  val_accuracy  epoch Learning Rate\n",
              "0  0.716795  0.801700  0.341018        0.9048      0          .01_\n",
              "1  0.314221  0.909783  0.268962        0.9225      1          .01_\n",
              "2  0.262822  0.924217  0.233764        0.9330      2          .01_\n",
              "3  0.232624  0.933933  0.207849        0.9397      3          .01_\n",
              "4  0.209899  0.940750  0.196828        0.9426      4          .01_"
            ]
          },
          "metadata": {
            "tags": []
          },
          "execution_count": 63
        }
      ]
    },
    {
      "cell_type": "code",
      "metadata": {
        "id": "su4-WGznh0-u",
        "outputId": "f2db6101-94ac-444d-b663-67d0292ff243",
        "colab": {
          "base_uri": "https://localhost:8080/",
          "height": 279
        }
      },
      "source": [
        "# make the visualization\n",
        "sns.lineplot(x='epoch', y='val_loss', hue='Learning Rate', data=df);"
      ],
      "execution_count": 64,
      "outputs": [
        {
          "output_type": "display_data",
          "data": {
            "image/png": "[encoded data removed]",
            "text/plain": [
              "<Figure size 432x288 with 1 Axes>"
            ]
          },
          "metadata": {
            "tags": [],
            "needs_background": "light"
          }
        }
      ]
    },
    {
      "cell_type": "code",
      "metadata": {
        "id": "9IFTvd3Oh9qj",
        "outputId": "49395199-c155-4b6f-8636-680271e6110c",
        "colab": {
          "base_uri": "https://localhost:8080/",
          "height": 281
        }
      },
      "source": [
        "sns.lineplot(x='epoch', y='val_accuracy', hue='Learning Rate', data=df);"
      ],
      "execution_count": 65,
      "outputs": [
        {
          "output_type": "display_data",
          "data": {
            "image/png": "[encoded data removed]",
            "text/plain": [
              "<Figure size 432x288 with 1 Axes>"
            ]
          },
          "metadata": {
            "tags": [],
            "needs_background": "light"
          }
        }
      ]
    },
    {
      "cell_type": "markdown",
      "metadata": {
        "id": "gxMtSRhV9Q7I"
      },
      "source": [
        "### Experiment with different Optimizers\n",
        "* Run 5 experiments with various optimizers available in TensorFlow. See list [here](https://www.tensorflow.org/api_docs/python/tf/keras/optimizers)\n",
        "* Visualize the results\n",
        "* Write up an analysis of the experiments and select the \"best\" performing model among your experiments. Make sure to compare against the previous experiments and your model's performance yesterday.\n",
        "* Repeat the experiment combining Learning Rate and different optimizers. Does the best performing model change? "
      ]
    },
    {
      "cell_type": "code",
      "metadata": {
        "id": "ujLuzdNA91ip",
        "outputId": "10b0c952-a696-48a3-d869-7fe23a20a46c",
        "colab": {
          "base_uri": "https://localhost:8080/"
        }
      },
      "source": [
        "model = create_model()\n",
        "# default 1\n",
        "lr_default = model.fit(X_train, y_train,\n",
        "                    epochs=40,\n",
        "                    validation_data=(X_test, y_test))"
      ],
      "execution_count": 66,
      "outputs": [
        {
          "output_type": "stream",
          "text": [
            "Epoch 1/40\n",
            "1875/1875 [==============================] - 3s 2ms/step - loss: 0.7740 - accuracy: 0.7866 - val_loss: 0.3583 - val_accuracy: 0.8985\n",
            "Epoch 2/40\n",
            "1875/1875 [==============================] - 3s 1ms/step - loss: 0.3375 - accuracy: 0.9042 - val_loss: 0.2948 - val_accuracy: 0.9143\n",
            "Epoch 3/40\n",
            "1875/1875 [==============================] - 3s 1ms/step - loss: 0.2884 - accuracy: 0.9166 - val_loss: 0.2592 - val_accuracy: 0.9253\n",
            "Epoch 4/40\n",
            "1875/1875 [==============================] - 3s 1ms/step - loss: 0.2569 - accuracy: 0.9264 - val_loss: 0.2385 - val_accuracy: 0.9304\n",
            "Epoch 5/40\n",
            "1875/1875 [==============================] - 3s 1ms/step - loss: 0.2321 - accuracy: 0.9330 - val_loss: 0.2148 - val_accuracy: 0.9367\n",
            "Epoch 6/40\n",
            "1875/1875 [==============================] - 3s 2ms/step - loss: 0.2119 - accuracy: 0.9387 - val_loss: 0.1949 - val_accuracy: 0.9412\n",
            "Epoch 7/40\n",
            "1875/1875 [==============================] - 3s 1ms/step - loss: 0.1943 - accuracy: 0.9440 - val_loss: 0.1904 - val_accuracy: 0.9435\n",
            "Epoch 8/40\n",
            "1875/1875 [==============================] - 3s 1ms/step - loss: 0.1799 - accuracy: 0.9481 - val_loss: 0.1774 - val_accuracy: 0.9466\n",
            "Epoch 9/40\n",
            "1875/1875 [==============================] - 3s 1ms/step - loss: 0.1690 - accuracy: 0.9514 - val_loss: 0.1626 - val_accuracy: 0.9517\n",
            "Epoch 10/40\n",
            "1875/1875 [==============================] - 3s 2ms/step - loss: 0.1579 - accuracy: 0.9538 - val_loss: 0.1564 - val_accuracy: 0.9530\n",
            "Epoch 11/40\n",
            "1875/1875 [==============================] - 3s 2ms/step - loss: 0.1489 - accuracy: 0.9564 - val_loss: 0.1503 - val_accuracy: 0.9538\n",
            "Epoch 12/40\n",
            "1875/1875 [==============================] - 3s 2ms/step - loss: 0.1406 - accuracy: 0.9591 - val_loss: 0.1418 - val_accuracy: 0.9571\n",
            "Epoch 13/40\n",
            "1875/1875 [==============================] - 3s 1ms/step - loss: 0.1332 - accuracy: 0.9609 - val_loss: 0.1381 - val_accuracy: 0.9597\n",
            "Epoch 14/40\n",
            "1875/1875 [==============================] - 3s 2ms/step - loss: 0.1262 - accuracy: 0.9629 - val_loss: 0.1322 - val_accuracy: 0.9596\n",
            "Epoch 15/40\n",
            "1875/1875 [==============================] - 3s 2ms/step - loss: 0.1205 - accuracy: 0.9647 - val_loss: 0.1281 - val_accuracy: 0.9619\n",
            "Epoch 16/40\n",
            "1875/1875 [==============================] - 3s 2ms/step - loss: 0.1147 - accuracy: 0.9663 - val_loss: 0.1301 - val_accuracy: 0.9609\n",
            "Epoch 17/40\n",
            "1875/1875 [==============================] - 3s 2ms/step - loss: 0.1097 - accuracy: 0.9678 - val_loss: 0.1209 - val_accuracy: 0.9638\n",
            "Epoch 18/40\n",
            "1875/1875 [==============================] - 3s 2ms/step - loss: 0.1053 - accuracy: 0.9694 - val_loss: 0.1177 - val_accuracy: 0.9651\n",
            "Epoch 19/40\n",
            "1875/1875 [==============================] - 4s 2ms/step - loss: 0.1010 - accuracy: 0.9699 - val_loss: 0.1195 - val_accuracy: 0.9637\n",
            "Epoch 20/40\n",
            "1875/1875 [==============================] - 3s 2ms/step - loss: 0.0975 - accuracy: 0.9718 - val_loss: 0.1116 - val_accuracy: 0.9655\n",
            "Epoch 21/40\n",
            "1875/1875 [==============================] - 3s 1ms/step - loss: 0.0935 - accuracy: 0.9730 - val_loss: 0.1117 - val_accuracy: 0.9662\n",
            "Epoch 22/40\n",
            "1875/1875 [==============================] - 3s 1ms/step - loss: 0.0902 - accuracy: 0.9738 - val_loss: 0.1089 - val_accuracy: 0.9663\n",
            "Epoch 23/40\n",
            "1875/1875 [==============================] - 3s 1ms/step - loss: 0.0871 - accuracy: 0.9750 - val_loss: 0.1102 - val_accuracy: 0.9662\n",
            "Epoch 24/40\n",
            "1875/1875 [==============================] - 3s 1ms/step - loss: 0.0840 - accuracy: 0.9757 - val_loss: 0.1089 - val_accuracy: 0.9662\n",
            "Epoch 25/40\n",
            "1875/1875 [==============================] - 3s 1ms/step - loss: 0.0814 - accuracy: 0.9769 - val_loss: 0.1084 - val_accuracy: 0.9669\n",
            "Epoch 26/40\n",
            "1875/1875 [==============================] - 3s 1ms/step - loss: 0.0787 - accuracy: 0.9772 - val_loss: 0.1055 - val_accuracy: 0.9685\n",
            "Epoch 27/40\n",
            "1875/1875 [==============================] - 3s 1ms/step - loss: 0.0763 - accuracy: 0.9782 - val_loss: 0.1051 - val_accuracy: 0.9666\n",
            "Epoch 28/40\n",
            "1875/1875 [==============================] - 3s 2ms/step - loss: 0.0738 - accuracy: 0.9787 - val_loss: 0.1056 - val_accuracy: 0.9675\n",
            "Epoch 29/40\n",
            "1875/1875 [==============================] - 3s 1ms/step - loss: 0.0720 - accuracy: 0.9795 - val_loss: 0.1036 - val_accuracy: 0.9677\n",
            "Epoch 30/40\n",
            "1875/1875 [==============================] - 3s 2ms/step - loss: 0.0692 - accuracy: 0.9805 - val_loss: 0.1071 - val_accuracy: 0.9671\n",
            "Epoch 31/40\n",
            "1875/1875 [==============================] - 3s 1ms/step - loss: 0.0680 - accuracy: 0.9803 - val_loss: 0.1049 - val_accuracy: 0.9681\n",
            "Epoch 32/40\n",
            "1875/1875 [==============================] - 3s 1ms/step - loss: 0.0661 - accuracy: 0.9812 - val_loss: 0.1027 - val_accuracy: 0.9678\n",
            "Epoch 33/40\n",
            "1875/1875 [==============================] - 3s 2ms/step - loss: 0.0642 - accuracy: 0.9821 - val_loss: 0.1025 - val_accuracy: 0.9698\n",
            "Epoch 34/40\n",
            "1875/1875 [==============================] - 3s 1ms/step - loss: 0.0624 - accuracy: 0.9822 - val_loss: 0.1065 - val_accuracy: 0.9687\n",
            "Epoch 35/40\n",
            "1875/1875 [==============================] - 3s 1ms/step - loss: 0.0609 - accuracy: 0.9828 - val_loss: 0.1041 - val_accuracy: 0.9684\n",
            "Epoch 36/40\n",
            "1875/1875 [==============================] - 3s 2ms/step - loss: 0.0591 - accuracy: 0.9833 - val_loss: 0.1023 - val_accuracy: 0.9695\n",
            "Epoch 37/40\n",
            "1875/1875 [==============================] - 3s 1ms/step - loss: 0.0578 - accuracy: 0.9835 - val_loss: 0.1005 - val_accuracy: 0.9691\n",
            "Epoch 38/40\n",
            "1875/1875 [==============================] - 3s 2ms/step - loss: 0.0560 - accuracy: 0.9841 - val_loss: 0.1019 - val_accuracy: 0.9706\n",
            "Epoch 39/40\n",
            "1875/1875 [==============================] - 3s 2ms/step - loss: 0.0546 - accuracy: 0.9846 - val_loss: 0.1015 - val_accuracy: 0.9691\n",
            "Epoch 40/40\n",
            "1875/1875 [==============================] - 3s 1ms/step - loss: 0.0532 - accuracy: 0.9854 - val_loss: 0.1044 - val_accuracy: 0.9701\n"
          ],
          "name": "stdout"
        }
      ]
    },
    {
      "cell_type": "code",
      "metadata": {
        "id": "QPUgd73ukJ2O",
        "outputId": "a691c3fd-44f2-4450-fd12-0c3896e5a40f",
        "colab": {
          "base_uri": "https://localhost:8080/"
        }
      },
      "source": [
        "model = create_model(lr=0.1)\n",
        "lr_default = model.fit(X_train, y_train,\n",
        "                    epochs=40,\n",
        "                    validation_data=(X_test, y_test))"
      ],
      "execution_count": 68,
      "outputs": [
        {
          "output_type": "stream",
          "text": [
            "Epoch 1/40\n",
            "1875/1875 [==============================] - 3s 2ms/step - loss: 0.3226 - accuracy: 0.9032 - val_loss: 0.1758 - val_accuracy: 0.9464\n",
            "Epoch 2/40\n",
            "1875/1875 [==============================] - 3s 2ms/step - loss: 0.1624 - accuracy: 0.9507 - val_loss: 0.1355 - val_accuracy: 0.9580\n",
            "Epoch 3/40\n",
            "1875/1875 [==============================] - 3s 2ms/step - loss: 0.1261 - accuracy: 0.9620 - val_loss: 0.1307 - val_accuracy: 0.9582\n",
            "Epoch 4/40\n",
            "1875/1875 [==============================] - 3s 2ms/step - loss: 0.1067 - accuracy: 0.9671 - val_loss: 0.1256 - val_accuracy: 0.9624\n",
            "Epoch 5/40\n",
            "1875/1875 [==============================] - 4s 2ms/step - loss: 0.0941 - accuracy: 0.9709 - val_loss: 0.1119 - val_accuracy: 0.9662\n",
            "Epoch 6/40\n",
            "1875/1875 [==============================] - 4s 2ms/step - loss: 0.0834 - accuracy: 0.9744 - val_loss: 0.1235 - val_accuracy: 0.9626\n",
            "Epoch 7/40\n",
            "1875/1875 [==============================] - 3s 2ms/step - loss: 0.0772 - accuracy: 0.9760 - val_loss: 0.1127 - val_accuracy: 0.9676\n",
            "Epoch 8/40\n",
            "1875/1875 [==============================] - 3s 2ms/step - loss: 0.0712 - accuracy: 0.9772 - val_loss: 0.1229 - val_accuracy: 0.9636\n",
            "Epoch 9/40\n",
            "1875/1875 [==============================] - 3s 2ms/step - loss: 0.0642 - accuracy: 0.9801 - val_loss: 0.1149 - val_accuracy: 0.9695\n",
            "Epoch 10/40\n",
            "1875/1875 [==============================] - 3s 2ms/step - loss: 0.0600 - accuracy: 0.9817 - val_loss: 0.1158 - val_accuracy: 0.9664\n",
            "Epoch 11/40\n",
            "1875/1875 [==============================] - 3s 2ms/step - loss: 0.0565 - accuracy: 0.9816 - val_loss: 0.1068 - val_accuracy: 0.9689\n",
            "Epoch 12/40\n",
            "1875/1875 [==============================] - 3s 2ms/step - loss: 0.0545 - accuracy: 0.9828 - val_loss: 0.1124 - val_accuracy: 0.9683\n",
            "Epoch 13/40\n",
            "1875/1875 [==============================] - 3s 2ms/step - loss: 0.0505 - accuracy: 0.9839 - val_loss: 0.1169 - val_accuracy: 0.9697\n",
            "Epoch 14/40\n",
            "1875/1875 [==============================] - 3s 2ms/step - loss: 0.0494 - accuracy: 0.9848 - val_loss: 0.1318 - val_accuracy: 0.9636\n",
            "Epoch 15/40\n",
            "1875/1875 [==============================] - 3s 2ms/step - loss: 0.0461 - accuracy: 0.9849 - val_loss: 0.1173 - val_accuracy: 0.9696\n",
            "Epoch 16/40\n",
            "1875/1875 [==============================] - 3s 2ms/step - loss: 0.0426 - accuracy: 0.9862 - val_loss: 0.1331 - val_accuracy: 0.9657\n",
            "Epoch 17/40\n",
            "1875/1875 [==============================] - 3s 2ms/step - loss: 0.0421 - accuracy: 0.9859 - val_loss: 0.1140 - val_accuracy: 0.9716\n",
            "Epoch 18/40\n",
            "1875/1875 [==============================] - 3s 2ms/step - loss: 0.0399 - accuracy: 0.9872 - val_loss: 0.1214 - val_accuracy: 0.9705\n",
            "Epoch 19/40\n",
            "1875/1875 [==============================] - 3s 2ms/step - loss: 0.0385 - accuracy: 0.9875 - val_loss: 0.1124 - val_accuracy: 0.9697\n",
            "Epoch 20/40\n",
            "1875/1875 [==============================] - 3s 1ms/step - loss: 0.0365 - accuracy: 0.9879 - val_loss: 0.1298 - val_accuracy: 0.9699\n",
            "Epoch 21/40\n",
            "1875/1875 [==============================] - 3s 1ms/step - loss: 0.0333 - accuracy: 0.9885 - val_loss: 0.1237 - val_accuracy: 0.9706\n",
            "Epoch 22/40\n",
            "1875/1875 [==============================] - 3s 2ms/step - loss: 0.0348 - accuracy: 0.9883 - val_loss: 0.1253 - val_accuracy: 0.9695\n",
            "Epoch 23/40\n",
            "1875/1875 [==============================] - 3s 2ms/step - loss: 0.0315 - accuracy: 0.9899 - val_loss: 0.1338 - val_accuracy: 0.9676\n",
            "Epoch 24/40\n",
            "1875/1875 [==============================] - 3s 2ms/step - loss: 0.0296 - accuracy: 0.9905 - val_loss: 0.1376 - val_accuracy: 0.9685\n",
            "Epoch 25/40\n",
            "1875/1875 [==============================] - 3s 1ms/step - loss: 0.0275 - accuracy: 0.9910 - val_loss: 0.1319 - val_accuracy: 0.9701\n",
            "Epoch 26/40\n",
            "1875/1875 [==============================] - 3s 2ms/step - loss: 0.0267 - accuracy: 0.9914 - val_loss: 0.1269 - val_accuracy: 0.9691\n",
            "Epoch 27/40\n",
            "1875/1875 [==============================] - 3s 2ms/step - loss: 0.0268 - accuracy: 0.9908 - val_loss: 0.1313 - val_accuracy: 0.9708\n",
            "Epoch 28/40\n",
            "1875/1875 [==============================] - 3s 2ms/step - loss: 0.0238 - accuracy: 0.9923 - val_loss: 0.1364 - val_accuracy: 0.9695\n",
            "Epoch 29/40\n",
            "1875/1875 [==============================] - 3s 2ms/step - loss: 0.0262 - accuracy: 0.9914 - val_loss: 0.1396 - val_accuracy: 0.9742\n",
            "Epoch 30/40\n",
            "1875/1875 [==============================] - 3s 2ms/step - loss: 0.0234 - accuracy: 0.9922 - val_loss: 0.1553 - val_accuracy: 0.9690\n",
            "Epoch 31/40\n",
            "1875/1875 [==============================] - 4s 2ms/step - loss: 0.0218 - accuracy: 0.9930 - val_loss: 0.1567 - val_accuracy: 0.9687\n",
            "Epoch 32/40\n",
            "1875/1875 [==============================] - 3s 2ms/step - loss: 0.0251 - accuracy: 0.9917 - val_loss: 0.1515 - val_accuracy: 0.9722\n",
            "Epoch 33/40\n",
            "1875/1875 [==============================] - 3s 2ms/step - loss: 0.0222 - accuracy: 0.9929 - val_loss: 0.1706 - val_accuracy: 0.9664\n",
            "Epoch 34/40\n",
            "1875/1875 [==============================] - 3s 2ms/step - loss: 0.0232 - accuracy: 0.9923 - val_loss: 0.1541 - val_accuracy: 0.9700\n",
            "Epoch 35/40\n",
            "1875/1875 [==============================] - 3s 2ms/step - loss: 0.0213 - accuracy: 0.9928 - val_loss: 0.1534 - val_accuracy: 0.9704\n",
            "Epoch 36/40\n",
            "1875/1875 [==============================] - 3s 2ms/step - loss: 0.0161 - accuracy: 0.9950 - val_loss: 0.1692 - val_accuracy: 0.9704\n",
            "Epoch 37/40\n",
            "1875/1875 [==============================] - 3s 2ms/step - loss: 0.0214 - accuracy: 0.9930 - val_loss: 0.1834 - val_accuracy: 0.9670\n",
            "Epoch 38/40\n",
            "1875/1875 [==============================] - 3s 2ms/step - loss: 0.0212 - accuracy: 0.9929 - val_loss: 0.1740 - val_accuracy: 0.9677\n",
            "Epoch 39/40\n",
            "1875/1875 [==============================] - 3s 2ms/step - loss: 0.0136 - accuracy: 0.9957 - val_loss: 0.1591 - val_accuracy: 0.9699\n",
            "Epoch 40/40\n",
            "1875/1875 [==============================] - 3s 2ms/step - loss: 0.0149 - accuracy: 0.9955 - val_loss: 0.1660 - val_accuracy: 0.9683\n"
          ],
          "name": "stdout"
        }
      ]
    },
    {
      "cell_type": "code",
      "metadata": {
        "id": "PDcwCJEJkiI8",
        "outputId": "f846ccbd-e75b-41df-b50b-84cf1452a934",
        "colab": {
          "base_uri": "https://localhost:8080/"
        }
      },
      "source": [
        "model = create_model(lr=0.01)\n",
        "lr_low = model.fit(X_train, y_train,\n",
        "                    epochs=40,\n",
        "                    validation_data=(X_test, y_test))"
      ],
      "execution_count": 69,
      "outputs": [
        {
          "output_type": "stream",
          "text": [
            "Epoch 1/40\n",
            "1875/1875 [==============================] - 3s 2ms/step - loss: 0.7519 - accuracy: 0.7821 - val_loss: 0.3524 - val_accuracy: 0.8976\n",
            "Epoch 2/40\n",
            "1875/1875 [==============================] - 3s 2ms/step - loss: 0.3244 - accuracy: 0.9071 - val_loss: 0.2831 - val_accuracy: 0.9177\n",
            "Epoch 3/40\n",
            "1875/1875 [==============================] - 3s 2ms/step - loss: 0.2712 - accuracy: 0.9212 - val_loss: 0.2424 - val_accuracy: 0.9293\n",
            "Epoch 4/40\n",
            "1875/1875 [==============================] - 3s 2ms/step - loss: 0.2393 - accuracy: 0.9314 - val_loss: 0.2175 - val_accuracy: 0.9344\n",
            "Epoch 5/40\n",
            "1875/1875 [==============================] - 3s 2ms/step - loss: 0.2158 - accuracy: 0.9387 - val_loss: 0.2012 - val_accuracy: 0.9412\n",
            "Epoch 6/40\n",
            "1875/1875 [==============================] - 3s 2ms/step - loss: 0.1966 - accuracy: 0.9436 - val_loss: 0.1890 - val_accuracy: 0.9444\n",
            "Epoch 7/40\n",
            "1875/1875 [==============================] - 3s 1ms/step - loss: 0.1818 - accuracy: 0.9477 - val_loss: 0.1770 - val_accuracy: 0.9469\n",
            "Epoch 8/40\n",
            "1875/1875 [==============================] - 3s 2ms/step - loss: 0.1692 - accuracy: 0.9514 - val_loss: 0.1711 - val_accuracy: 0.9489\n",
            "Epoch 9/40\n",
            "1875/1875 [==============================] - 3s 2ms/step - loss: 0.1586 - accuracy: 0.9546 - val_loss: 0.1553 - val_accuracy: 0.9554\n",
            "Epoch 10/40\n",
            "1875/1875 [==============================] - 3s 2ms/step - loss: 0.1490 - accuracy: 0.9571 - val_loss: 0.1526 - val_accuracy: 0.9559\n",
            "Epoch 11/40\n",
            "1875/1875 [==============================] - 3s 2ms/step - loss: 0.1413 - accuracy: 0.9588 - val_loss: 0.1486 - val_accuracy: 0.9547\n",
            "Epoch 12/40\n",
            "1875/1875 [==============================] - 3s 2ms/step - loss: 0.1339 - accuracy: 0.9613 - val_loss: 0.1464 - val_accuracy: 0.9560\n",
            "Epoch 13/40\n",
            "1875/1875 [==============================] - 3s 2ms/step - loss: 0.1278 - accuracy: 0.9630 - val_loss: 0.1350 - val_accuracy: 0.9582\n",
            "Epoch 14/40\n",
            "1875/1875 [==============================] - 3s 2ms/step - loss: 0.1225 - accuracy: 0.9642 - val_loss: 0.1325 - val_accuracy: 0.9602\n",
            "Epoch 15/40\n",
            "1875/1875 [==============================] - 3s 2ms/step - loss: 0.1173 - accuracy: 0.9660 - val_loss: 0.1293 - val_accuracy: 0.9606\n",
            "Epoch 16/40\n",
            "1875/1875 [==============================] - 3s 2ms/step - loss: 0.1128 - accuracy: 0.9674 - val_loss: 0.1246 - val_accuracy: 0.9626\n",
            "Epoch 17/40\n",
            "1875/1875 [==============================] - 3s 2ms/step - loss: 0.1090 - accuracy: 0.9685 - val_loss: 0.1226 - val_accuracy: 0.9625\n",
            "Epoch 18/40\n",
            "1875/1875 [==============================] - 4s 2ms/step - loss: 0.1050 - accuracy: 0.9696 - val_loss: 0.1210 - val_accuracy: 0.9634\n",
            "Epoch 19/40\n",
            "1875/1875 [==============================] - 3s 2ms/step - loss: 0.1014 - accuracy: 0.9708 - val_loss: 0.1165 - val_accuracy: 0.9659\n",
            "Epoch 20/40\n",
            "1875/1875 [==============================] - 3s 1ms/step - loss: 0.0982 - accuracy: 0.9718 - val_loss: 0.1173 - val_accuracy: 0.9643\n",
            "Epoch 21/40\n",
            "1875/1875 [==============================] - 3s 1ms/step - loss: 0.0952 - accuracy: 0.9726 - val_loss: 0.1155 - val_accuracy: 0.9649\n",
            "Epoch 22/40\n",
            "1875/1875 [==============================] - 3s 1ms/step - loss: 0.0926 - accuracy: 0.9733 - val_loss: 0.1174 - val_accuracy: 0.9646\n",
            "Epoch 23/40\n",
            "1875/1875 [==============================] - 3s 1ms/step - loss: 0.0897 - accuracy: 0.9744 - val_loss: 0.1140 - val_accuracy: 0.9649\n",
            "Epoch 24/40\n",
            "1875/1875 [==============================] - 3s 1ms/step - loss: 0.0870 - accuracy: 0.9753 - val_loss: 0.1103 - val_accuracy: 0.9660\n",
            "Epoch 25/40\n",
            "1875/1875 [==============================] - 3s 2ms/step - loss: 0.0851 - accuracy: 0.9752 - val_loss: 0.1083 - val_accuracy: 0.9674\n",
            "Epoch 26/40\n",
            "1875/1875 [==============================] - 3s 2ms/step - loss: 0.0826 - accuracy: 0.9763 - val_loss: 0.1082 - val_accuracy: 0.9661\n",
            "Epoch 27/40\n",
            "1875/1875 [==============================] - 3s 1ms/step - loss: 0.0806 - accuracy: 0.9770 - val_loss: 0.1062 - val_accuracy: 0.9677\n",
            "Epoch 28/40\n",
            "1875/1875 [==============================] - 3s 2ms/step - loss: 0.0784 - accuracy: 0.9771 - val_loss: 0.1049 - val_accuracy: 0.9681\n",
            "Epoch 29/40\n",
            "1875/1875 [==============================] - 3s 1ms/step - loss: 0.0764 - accuracy: 0.9777 - val_loss: 0.1086 - val_accuracy: 0.9674\n",
            "Epoch 30/40\n",
            "1875/1875 [==============================] - 3s 1ms/step - loss: 0.0746 - accuracy: 0.9783 - val_loss: 0.1060 - val_accuracy: 0.9685\n",
            "Epoch 31/40\n",
            "1875/1875 [==============================] - 3s 1ms/step - loss: 0.0726 - accuracy: 0.9791 - val_loss: 0.1050 - val_accuracy: 0.9683\n",
            "Epoch 32/40\n",
            "1875/1875 [==============================] - 3s 1ms/step - loss: 0.0715 - accuracy: 0.9794 - val_loss: 0.1048 - val_accuracy: 0.9690\n",
            "Epoch 33/40\n",
            "1875/1875 [==============================] - 3s 2ms/step - loss: 0.0694 - accuracy: 0.9800 - val_loss: 0.1030 - val_accuracy: 0.9692\n",
            "Epoch 34/40\n",
            "1875/1875 [==============================] - 3s 2ms/step - loss: 0.0680 - accuracy: 0.9805 - val_loss: 0.1081 - val_accuracy: 0.9666\n",
            "Epoch 35/40\n",
            "1875/1875 [==============================] - 3s 1ms/step - loss: 0.0664 - accuracy: 0.9809 - val_loss: 0.1047 - val_accuracy: 0.9685\n",
            "Epoch 36/40\n",
            "1875/1875 [==============================] - 3s 2ms/step - loss: 0.0650 - accuracy: 0.9812 - val_loss: 0.1036 - val_accuracy: 0.9689\n",
            "Epoch 37/40\n",
            "1875/1875 [==============================] - 3s 1ms/step - loss: 0.0635 - accuracy: 0.9815 - val_loss: 0.1032 - val_accuracy: 0.9677\n",
            "Epoch 38/40\n",
            "1875/1875 [==============================] - 3s 2ms/step - loss: 0.0619 - accuracy: 0.9821 - val_loss: 0.1044 - val_accuracy: 0.9685\n",
            "Epoch 39/40\n",
            "1875/1875 [==============================] - 3s 2ms/step - loss: 0.0607 - accuracy: 0.9824 - val_loss: 0.1021 - val_accuracy: 0.9688\n",
            "Epoch 40/40\n",
            "1875/1875 [==============================] - 3s 1ms/step - loss: 0.0593 - accuracy: 0.9829 - val_loss: 0.1018 - val_accuracy: 0.9688\n"
          ],
          "name": "stdout"
        }
      ]
    },
    {
      "cell_type": "code",
      "metadata": {
        "id": "DH2PXbgRkTae",
        "outputId": "52c81aac-7c38-4f70-8ee4-005634cb8257",
        "colab": {
          "base_uri": "https://localhost:8080/"
        }
      },
      "source": [
        "model = create_model(lr=0.001)\n",
        "lr_meduim = model.fit(X_train, y_train,\n",
        "                    epochs=35,\n",
        "                    validation_data=(X_test, y_test))"
      ],
      "execution_count": 70,
      "outputs": [
        {
          "output_type": "stream",
          "text": [
            "Epoch 1/35\n",
            "1875/1875 [==============================] - 3s 2ms/step - loss: 2.0785 - accuracy: 0.3781 - val_loss: 1.7965 - val_accuracy: 0.5355\n",
            "Epoch 2/35\n",
            "1875/1875 [==============================] - 3s 1ms/step - loss: 1.4689 - accuracy: 0.6109 - val_loss: 1.1396 - val_accuracy: 0.6939\n",
            "Epoch 3/35\n",
            "1875/1875 [==============================] - 3s 2ms/step - loss: 0.9579 - accuracy: 0.7569 - val_loss: 0.7716 - val_accuracy: 0.8136\n",
            "Epoch 4/35\n",
            "1875/1875 [==============================] - 3s 2ms/step - loss: 0.7027 - accuracy: 0.8244 - val_loss: 0.6018 - val_accuracy: 0.8483\n",
            "Epoch 5/35\n",
            "1875/1875 [==============================] - 3s 2ms/step - loss: 0.5770 - accuracy: 0.8510 - val_loss: 0.5132 - val_accuracy: 0.8655\n",
            "Epoch 6/35\n",
            "1875/1875 [==============================] - 3s 1ms/step - loss: 0.5054 - accuracy: 0.8656 - val_loss: 0.4585 - val_accuracy: 0.8769\n",
            "Epoch 7/35\n",
            "1875/1875 [==============================] - 3s 2ms/step - loss: 0.4595 - accuracy: 0.8751 - val_loss: 0.4229 - val_accuracy: 0.8864\n",
            "Epoch 8/35\n",
            "1875/1875 [==============================] - 3s 2ms/step - loss: 0.4276 - accuracy: 0.8820 - val_loss: 0.3972 - val_accuracy: 0.8912\n",
            "Epoch 9/35\n",
            "1875/1875 [==============================] - 3s 2ms/step - loss: 0.4040 - accuracy: 0.8870 - val_loss: 0.3779 - val_accuracy: 0.8950\n",
            "Epoch 10/35\n",
            "1875/1875 [==============================] - 3s 2ms/step - loss: 0.3857 - accuracy: 0.8922 - val_loss: 0.3624 - val_accuracy: 0.8993\n",
            "Epoch 11/35\n",
            "1875/1875 [==============================] - 3s 2ms/step - loss: 0.3708 - accuracy: 0.8954 - val_loss: 0.3504 - val_accuracy: 0.9026\n",
            "Epoch 12/35\n",
            "1875/1875 [==============================] - 3s 2ms/step - loss: 0.3585 - accuracy: 0.8984 - val_loss: 0.3393 - val_accuracy: 0.9043\n",
            "Epoch 13/35\n",
            "1875/1875 [==============================] - 3s 2ms/step - loss: 0.3480 - accuracy: 0.9014 - val_loss: 0.3299 - val_accuracy: 0.9079\n",
            "Epoch 14/35\n",
            "1875/1875 [==============================] - 3s 1ms/step - loss: 0.3388 - accuracy: 0.9031 - val_loss: 0.3221 - val_accuracy: 0.9097\n",
            "Epoch 15/35\n",
            "1875/1875 [==============================] - 3s 2ms/step - loss: 0.3306 - accuracy: 0.9059 - val_loss: 0.3147 - val_accuracy: 0.9127\n",
            "Epoch 16/35\n",
            "1875/1875 [==============================] - 3s 2ms/step - loss: 0.3231 - accuracy: 0.9074 - val_loss: 0.3092 - val_accuracy: 0.9142\n",
            "Epoch 17/35\n",
            "1875/1875 [==============================] - 3s 1ms/step - loss: 0.3166 - accuracy: 0.9092 - val_loss: 0.3021 - val_accuracy: 0.9149\n",
            "Epoch 18/35\n",
            "1875/1875 [==============================] - 3s 2ms/step - loss: 0.3103 - accuracy: 0.9111 - val_loss: 0.2966 - val_accuracy: 0.9165\n",
            "Epoch 19/35\n",
            "1875/1875 [==============================] - 3s 2ms/step - loss: 0.3046 - accuracy: 0.9126 - val_loss: 0.2920 - val_accuracy: 0.9184\n",
            "Epoch 20/35\n",
            "1875/1875 [==============================] - 4s 2ms/step - loss: 0.2993 - accuracy: 0.9141 - val_loss: 0.2880 - val_accuracy: 0.9191\n",
            "Epoch 21/35\n",
            "1875/1875 [==============================] - 4s 2ms/step - loss: 0.2943 - accuracy: 0.9152 - val_loss: 0.2828 - val_accuracy: 0.9206\n",
            "Epoch 22/35\n",
            "1875/1875 [==============================] - 3s 2ms/step - loss: 0.2895 - accuracy: 0.9175 - val_loss: 0.2781 - val_accuracy: 0.9209\n",
            "Epoch 23/35\n",
            "1875/1875 [==============================] - 4s 2ms/step - loss: 0.2850 - accuracy: 0.9183 - val_loss: 0.2752 - val_accuracy: 0.9220\n",
            "Epoch 24/35\n",
            "1875/1875 [==============================] - 4s 2ms/step - loss: 0.2806 - accuracy: 0.9193 - val_loss: 0.2710 - val_accuracy: 0.9232\n",
            "Epoch 25/35\n",
            "1875/1875 [==============================] - 3s 2ms/step - loss: 0.2765 - accuracy: 0.9207 - val_loss: 0.2670 - val_accuracy: 0.9235\n",
            "Epoch 26/35\n",
            "1875/1875 [==============================] - 3s 1ms/step - loss: 0.2726 - accuracy: 0.9218 - val_loss: 0.2634 - val_accuracy: 0.9255\n",
            "Epoch 27/35\n",
            "1875/1875 [==============================] - 3s 2ms/step - loss: 0.2686 - accuracy: 0.9230 - val_loss: 0.2601 - val_accuracy: 0.9257\n",
            "Epoch 28/35\n",
            "1875/1875 [==============================] - 3s 1ms/step - loss: 0.2649 - accuracy: 0.9240 - val_loss: 0.2558 - val_accuracy: 0.9277\n",
            "Epoch 29/35\n",
            "1875/1875 [==============================] - 3s 1ms/step - loss: 0.2614 - accuracy: 0.9251 - val_loss: 0.2531 - val_accuracy: 0.9267\n",
            "Epoch 30/35\n",
            "1875/1875 [==============================] - 3s 1ms/step - loss: 0.2578 - accuracy: 0.9262 - val_loss: 0.2505 - val_accuracy: 0.9279\n",
            "Epoch 31/35\n",
            "1875/1875 [==============================] - 3s 2ms/step - loss: 0.2543 - accuracy: 0.9276 - val_loss: 0.2480 - val_accuracy: 0.9301\n",
            "Epoch 32/35\n",
            "1875/1875 [==============================] - 3s 2ms/step - loss: 0.2510 - accuracy: 0.9286 - val_loss: 0.2441 - val_accuracy: 0.9309\n",
            "Epoch 33/35\n",
            "1875/1875 [==============================] - 3s 1ms/step - loss: 0.2477 - accuracy: 0.9292 - val_loss: 0.2428 - val_accuracy: 0.9315\n",
            "Epoch 34/35\n",
            "1875/1875 [==============================] - 3s 2ms/step - loss: 0.2446 - accuracy: 0.9305 - val_loss: 0.2386 - val_accuracy: 0.9322\n",
            "Epoch 35/35\n",
            "1875/1875 [==============================] - 3s 2ms/step - loss: 0.2414 - accuracy: 0.9312 - val_loss: 0.2356 - val_accuracy: 0.9326\n"
          ],
          "name": "stdout"
        }
      ]
    },
    {
      "cell_type": "code",
      "metadata": {
        "id": "k3KEL9ZvkgHH",
        "outputId": "8b7623c2-f4b2-4749-8e4e-8ef13aac7f4c",
        "colab": {
          "base_uri": "https://localhost:8080/"
        }
      },
      "source": [
        "model = create_model(lr=0.0001)\n",
        "lr_high = model.fit(X_train, y_train,\n",
        "                    epochs=40,\n",
        "                    validation_data=(X_test, y_test))"
      ],
      "execution_count": 71,
      "outputs": [
        {
          "output_type": "stream",
          "text": [
            "Epoch 1/40\n",
            "1875/1875 [==============================] - 3s 2ms/step - loss: 2.2715 - accuracy: 0.1510 - val_loss: 2.2327 - val_accuracy: 0.1777\n",
            "Epoch 2/40\n",
            "1875/1875 [==============================] - 3s 1ms/step - loss: 2.2108 - accuracy: 0.2098 - val_loss: 2.1735 - val_accuracy: 0.2466\n",
            "Epoch 3/40\n",
            "1875/1875 [==============================] - 3s 2ms/step - loss: 2.1550 - accuracy: 0.2778 - val_loss: 2.1147 - val_accuracy: 0.3177\n",
            "Epoch 4/40\n",
            "1875/1875 [==============================] - 3s 2ms/step - loss: 2.0971 - accuracy: 0.3437 - val_loss: 2.0532 - val_accuracy: 0.3776\n",
            "Epoch 5/40\n",
            "1875/1875 [==============================] - 3s 2ms/step - loss: 2.0355 - accuracy: 0.3959 - val_loss: 1.9876 - val_accuracy: 0.4246\n",
            "Epoch 6/40\n",
            "1875/1875 [==============================] - 3s 2ms/step - loss: 1.9693 - accuracy: 0.4404 - val_loss: 1.9171 - val_accuracy: 0.4690\n",
            "Epoch 7/40\n",
            "1875/1875 [==============================] - 3s 2ms/step - loss: 1.8978 - accuracy: 0.4846 - val_loss: 1.8410 - val_accuracy: 0.5147\n",
            "Epoch 8/40\n",
            "1875/1875 [==============================] - 3s 2ms/step - loss: 1.8204 - accuracy: 0.5314 - val_loss: 1.7588 - val_accuracy: 0.5619\n",
            "Epoch 9/40\n",
            "1875/1875 [==============================] - 3s 2ms/step - loss: 1.7373 - accuracy: 0.5784 - val_loss: 1.6708 - val_accuracy: 0.6047\n",
            "Epoch 10/40\n",
            "1875/1875 [==============================] - 3s 2ms/step - loss: 1.6495 - accuracy: 0.6199 - val_loss: 1.5792 - val_accuracy: 0.6435\n",
            "Epoch 11/40\n",
            "1875/1875 [==============================] - 3s 2ms/step - loss: 1.5592 - accuracy: 0.6562 - val_loss: 1.4867 - val_accuracy: 0.6775\n",
            "Epoch 12/40\n",
            "1875/1875 [==============================] - 3s 2ms/step - loss: 1.4693 - accuracy: 0.6848 - val_loss: 1.3962 - val_accuracy: 0.7060\n",
            "Epoch 13/40\n",
            "1875/1875 [==============================] - 3s 2ms/step - loss: 1.3823 - accuracy: 0.7092 - val_loss: 1.3096 - val_accuracy: 0.7301\n",
            "Epoch 14/40\n",
            "1875/1875 [==============================] - 3s 2ms/step - loss: 1.2997 - accuracy: 0.7292 - val_loss: 1.2281 - val_accuracy: 0.7493\n",
            "Epoch 15/40\n",
            "1875/1875 [==============================] - 3s 2ms/step - loss: 1.2224 - accuracy: 0.7458 - val_loss: 1.1526 - val_accuracy: 0.7662\n",
            "Epoch 16/40\n",
            "1875/1875 [==============================] - 3s 2ms/step - loss: 1.1507 - accuracy: 0.7604 - val_loss: 1.0828 - val_accuracy: 0.7807\n",
            "Epoch 17/40\n",
            "1875/1875 [==============================] - 3s 2ms/step - loss: 1.0847 - accuracy: 0.7735 - val_loss: 1.0190 - val_accuracy: 0.7894\n",
            "Epoch 18/40\n",
            "1875/1875 [==============================] - 3s 2ms/step - loss: 1.0243 - accuracy: 0.7828 - val_loss: 0.9611 - val_accuracy: 0.7991\n",
            "Epoch 19/40\n",
            "1875/1875 [==============================] - 3s 2ms/step - loss: 0.9693 - accuracy: 0.7915 - val_loss: 0.9086 - val_accuracy: 0.8064\n",
            "Epoch 20/40\n",
            "1875/1875 [==============================] - 3s 2ms/step - loss: 0.9197 - accuracy: 0.7996 - val_loss: 0.8615 - val_accuracy: 0.8128\n",
            "Epoch 21/40\n",
            "1875/1875 [==============================] - 3s 2ms/step - loss: 0.8752 - accuracy: 0.8068 - val_loss: 0.8195 - val_accuracy: 0.8188\n",
            "Epoch 22/40\n",
            "1875/1875 [==============================] - 3s 2ms/step - loss: 0.8352 - accuracy: 0.8128 - val_loss: 0.7818 - val_accuracy: 0.8228\n",
            "Epoch 23/40\n",
            "1875/1875 [==============================] - 3s 2ms/step - loss: 0.7994 - accuracy: 0.8187 - val_loss: 0.7482 - val_accuracy: 0.8263\n",
            "Epoch 24/40\n",
            "1875/1875 [==============================] - 3s 2ms/step - loss: 0.7673 - accuracy: 0.8234 - val_loss: 0.7182 - val_accuracy: 0.8312\n",
            "Epoch 25/40\n",
            "1875/1875 [==============================] - 3s 2ms/step - loss: 0.7385 - accuracy: 0.8273 - val_loss: 0.6914 - val_accuracy: 0.8358\n",
            "Epoch 26/40\n",
            "1875/1875 [==============================] - 3s 2ms/step - loss: 0.7126 - accuracy: 0.8314 - val_loss: 0.6672 - val_accuracy: 0.8407\n",
            "Epoch 27/40\n",
            "1875/1875 [==============================] - 3s 2ms/step - loss: 0.6893 - accuracy: 0.8357 - val_loss: 0.6454 - val_accuracy: 0.8440\n",
            "Epoch 28/40\n",
            "1875/1875 [==============================] - 3s 2ms/step - loss: 0.6682 - accuracy: 0.8386 - val_loss: 0.6257 - val_accuracy: 0.8472\n",
            "Epoch 29/40\n",
            "1875/1875 [==============================] - 4s 2ms/step - loss: 0.6491 - accuracy: 0.8417 - val_loss: 0.6078 - val_accuracy: 0.8484\n",
            "Epoch 30/40\n",
            "1875/1875 [==============================] - 6s 3ms/step - loss: 0.6316 - accuracy: 0.8448 - val_loss: 0.5916 - val_accuracy: 0.8515\n",
            "Epoch 31/40\n",
            "1875/1875 [==============================] - 4s 2ms/step - loss: 0.6157 - accuracy: 0.8478 - val_loss: 0.5768 - val_accuracy: 0.8545\n",
            "Epoch 32/40\n",
            "1875/1875 [==============================] - 3s 2ms/step - loss: 0.6011 - accuracy: 0.8503 - val_loss: 0.5632 - val_accuracy: 0.8575\n",
            "Epoch 33/40\n",
            "1875/1875 [==============================] - 3s 2ms/step - loss: 0.5877 - accuracy: 0.8525 - val_loss: 0.5507 - val_accuracy: 0.8595\n",
            "Epoch 34/40\n",
            "1875/1875 [==============================] - 3s 2ms/step - loss: 0.5753 - accuracy: 0.8544 - val_loss: 0.5391 - val_accuracy: 0.8608\n",
            "Epoch 35/40\n",
            "1875/1875 [==============================] - 3s 2ms/step - loss: 0.5639 - accuracy: 0.8564 - val_loss: 0.5286 - val_accuracy: 0.8628\n",
            "Epoch 36/40\n",
            "1875/1875 [==============================] - 3s 2ms/step - loss: 0.5533 - accuracy: 0.8584 - val_loss: 0.5188 - val_accuracy: 0.8641\n",
            "Epoch 37/40\n",
            "1875/1875 [==============================] - 3s 2ms/step - loss: 0.5435 - accuracy: 0.8605 - val_loss: 0.5096 - val_accuracy: 0.8656\n",
            "Epoch 38/40\n",
            "1875/1875 [==============================] - 3s 2ms/step - loss: 0.5343 - accuracy: 0.8619 - val_loss: 0.5011 - val_accuracy: 0.8671\n",
            "Epoch 39/40\n",
            "1875/1875 [==============================] - 3s 2ms/step - loss: 0.5258 - accuracy: 0.8636 - val_loss: 0.4933 - val_accuracy: 0.8685\n",
            "Epoch 40/40\n",
            "1875/1875 [==============================] - 3s 2ms/step - loss: 0.5178 - accuracy: 0.8651 - val_loss: 0.4859 - val_accuracy: 0.8712\n"
          ],
          "name": "stdout"
        }
      ]
    },
    {
      "cell_type": "code",
      "metadata": {
        "id": "fyuYRo7FlP3B",
        "outputId": "d8b528e1-7c45-4475-9a0e-a5dc88a1e743",
        "colab": {
          "base_uri": "https://localhost:8080/",
          "height": 199
        }
      },
      "source": [
        "# visualization the results\n",
        "import seaborn as sns\n",
        "import pandas as pd\n",
        "\n",
        "batch_sizes = []\n",
        "\n",
        "for exp, result in zip([lr_default, lr_low,lr_medium, lr_high],\n",
        "                       [\"0.1_\",\".01_\", \".001_\", \".0001_\"]):\n",
        "\n",
        "  df = pd.DataFrame.from_dict(exp.history)\n",
        "  df['epoch'] = df.index.values\n",
        "  df['Learning Rate'] = result\n",
        "\n",
        "  batch_sizes.append(df)\n",
        "\n",
        "df = pd.concat(batch_sizes)\n",
        "df['Learning Rate'] = df['Learning Rate'].astype('str')\n",
        "df.head()"
      ],
      "execution_count": 72,
      "outputs": [
        {
          "output_type": "execute_result",
          "data": {
            "text/html": [
              "<div>\n",
              "<style scoped>\n",
              "    .dataframe tbody tr th:only-of-type {\n",
              "        vertical-align: middle;\n",
              "    }\n",
              "\n",
              "    .dataframe tbody tr th {\n",
              "        vertical-align: top;\n",
              "    }\n",
              "\n",
              "    .dataframe thead th {\n",
              "        text-align: right;\n",
              "    }\n",
              "</style>\n",
              "<table border=\"1\" class=\"dataframe\">\n",
              "  <thead>\n",
              "    <tr style=\"text-align: right;\">\n",
              "      <th></th>\n",
              "      <th>loss</th>\n",
              "      <th>accuracy</th>\n",
              "      <th>val_loss</th>\n",
              "      <th>val_accuracy</th>\n",
              "      <th>epoch</th>\n",
              "      <th>Learning Rate</th>\n",
              "    </tr>\n",
              "  </thead>\n",
              "  <tbody>\n",
              "    <tr>\n",
              "      <th>0</th>\n",
              "      <td>0.322617</td>\n",
              "      <td>0.903200</td>\n",
              "      <td>0.175830</td>\n",
              "      <td>0.9464</td>\n",
              "      <td>0</td>\n",
              "      <td>0.1_</td>\n",
              "    </tr>\n",
              "    <tr>\n",
              "      <th>1</th>\n",
              "      <td>0.162380</td>\n",
              "      <td>0.950667</td>\n",
              "      <td>0.135511</td>\n",
              "      <td>0.9580</td>\n",
              "      <td>1</td>\n",
              "      <td>0.1_</td>\n",
              "    </tr>\n",
              "    <tr>\n",
              "      <th>2</th>\n",
              "      <td>0.126138</td>\n",
              "      <td>0.962000</td>\n",
              "      <td>0.130726</td>\n",
              "      <td>0.9582</td>\n",
              "      <td>2</td>\n",
              "      <td>0.1_</td>\n",
              "    </tr>\n",
              "    <tr>\n",
              "      <th>3</th>\n",
              "      <td>0.106747</td>\n",
              "      <td>0.967117</td>\n",
              "      <td>0.125638</td>\n",
              "      <td>0.9624</td>\n",
              "      <td>3</td>\n",
              "      <td>0.1_</td>\n",
              "    </tr>\n",
              "    <tr>\n",
              "      <th>4</th>\n",
              "      <td>0.094107</td>\n",
              "      <td>0.970883</td>\n",
              "      <td>0.111873</td>\n",
              "      <td>0.9662</td>\n",
              "      <td>4</td>\n",
              "      <td>0.1_</td>\n",
              "    </tr>\n",
              "  </tbody>\n",
              "</table>\n",
              "</div>"
            ],
            "text/plain": [
              "       loss  accuracy  val_loss  val_accuracy  epoch Learning Rate\n",
              "0  0.322617  0.903200  0.175830        0.9464      0          0.1_\n",
              "1  0.162380  0.950667  0.135511        0.9580      1          0.1_\n",
              "2  0.126138  0.962000  0.130726        0.9582      2          0.1_\n",
              "3  0.106747  0.967117  0.125638        0.9624      3          0.1_\n",
              "4  0.094107  0.970883  0.111873        0.9662      4          0.1_"
            ]
          },
          "metadata": {
            "tags": []
          },
          "execution_count": 72
        }
      ]
    },
    {
      "cell_type": "code",
      "metadata": {
        "id": "7LrFRTQ0lav2",
        "outputId": "8a2b8c7b-1594-4d79-f3d4-8a1a773031ce",
        "colab": {
          "base_uri": "https://localhost:8080/",
          "height": 279
        }
      },
      "source": [
        "# make the visualization\n",
        "sns.lineplot(x='epoch', y='val_loss', hue='Learning Rate', data=df);"
      ],
      "execution_count": 73,
      "outputs": [
        {
          "output_type": "display_data",
          "data": {
            "image/png": "[encoded data removed]",
            "text/plain": [
              "<Figure size 432x288 with 1 Axes>"
            ]
          },
          "metadata": {
            "tags": [],
            "needs_background": "light"
          }
        }
      ]
    },
    {
      "cell_type": "markdown",
      "metadata": {
        "id": "ydAqeY9S8uHA"
      },
      "source": [
        "### Additional Written Tasks\n",
        "\n",
        "1. Describe the process of backpropagation in your own words: \n",
        "\n",
        "It is an algorithm for how weights in a neural network are updated in reverse order at the end of each training epoch.In addition to that, it is worked by computing the gradient of the loss function with respect to each weight by the chain rule.\n"
      ]
    },
    {
      "cell_type": "markdown",
      "metadata": {
        "id": "FwlRJSfBlCvy"
      },
      "source": [
        "## Stretch Goals: \n",
        "\n",
        "- Implement GridSearch on anyone of the experiments\n",
        "- On the learning rate experiments, implement [EarlyStopping](https://www.tensorflow.org/api_docs/python/tf/keras/callbacks/EarlyStopping)\n",
        "- Review material on the math behind gradient descent: \n",
        "\n",
        "  - Gradient Descent\n",
        "    - Gradient Descent, Step-by-Step  by StatQuest w/ Josh Starmer. This will help you understand the gradient descent based optimization that happens underneath the hood of neural networks. It uses a non-neural network example, which I believe is a gentler introduction. You will hear me refer to this technique as \"vanilla\" gradient descent. \n",
        "    - Stochastic Gradient Descent, Clearly Explained!!! by StatQuest w/ Josh Starmer. This builds on the techniques in the previous video.  This technique is the one that is actually implemented inside modern 'nets. \n",
        "These are great resources to help you understand tomorrow's material at a deeper level. I highly recommend watching these ahead of tomorrow.\n",
        "\n",
        "  - Background Math\n",
        "    - Dot products and duality by 3Blue1Brown. Explains the core linear algebra operation happening in today's perceptron.\n",
        "The paradox of the derivative by 3Blue1Brown. Does a great job explaining a derivative. \n",
        "    - Visualizing the chain rule and product rule by 3Blue1Brown. Explains the black magic that happens within Stochastic Gradient Descent. \n",
        "These math resources are very much optional. They can be very heady, but I encourage you to explore. Your understanding of neural networks will greatly increase if you understand this math background.\n",
        "\n",
        "\n"
      ]
    }
  ]
}